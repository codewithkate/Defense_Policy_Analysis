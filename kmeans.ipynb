{
  "nbformat": 4,
  "nbformat_minor": 0,
  "metadata": {
    "colab": {
      "provenance": [],
      "authorship_tag": "ABX9TyNT9x2Hf4T9OXoysPTP4d0k",
      "include_colab_link": true
    },
    "kernelspec": {
      "name": "python3",
      "display_name": "Python 3"
    },
    "language_info": {
      "name": "python"
    }
  },
  "cells": [
    {
      "cell_type": "markdown",
      "metadata": {
        "id": "view-in-github",
        "colab_type": "text"
      },
      "source": [
        "<a href=\"https://colab.research.google.com/github/codewithkate/Defense_Policy_Analysis/blob/main/kmeans.ipynb\" target=\"_parent\"><img src=\"https://colab.research.google.com/assets/colab-badge.svg\" alt=\"Open In Colab\"/></a>"
      ]
    },
    {
      "cell_type": "markdown",
      "source": [
        "# Perform K-Means clustering\n",
        "\n",
        "Modified code from: [Dhiraj Kumar at NeptuneAI](https://neptune.ai/blog/customer-segmentation-using-machine-learning)"
      ],
      "metadata": {
        "id": "JLh7Ah89740e"
      }
    },
    {
      "cell_type": "code",
      "source": [
        "# Import required libraries\n",
        "\n",
        "import pandas as pd\n",
        "import numpy as np\n",
        "from sklearn.cluster import KMeans\n",
        "import plotly.express as px\n",
        "import plotly.graph_objects as go\n",
        "import matplotlib.pyplot as plt\n",
        "from sklearn.metrics import silhouette_score\n",
        "from sklearn.preprocessing import StandardScaler"
      ],
      "metadata": {
        "id": "a8wLWfN3wP0r"
      },
      "execution_count": 1,
      "outputs": []
    },
    {
      "cell_type": "markdown",
      "source": [
        "## Upload dataset from your local file system\n",
        "Download the dataset used in the is analysis from [GitHub](https://github.com/codewithkate/Defense_Policy_Analysis)."
      ],
      "metadata": {
        "id": "-A7eXDIZX-SW"
      }
    },
    {
      "cell_type": "code",
      "execution_count": 2,
      "metadata": {
        "colab": {
          "base_uri": "https://localhost:8080/",
          "height": 90
        },
        "id": "NFZF4mwNXvzt",
        "outputId": "b35182ca-9dae-420c-8b73-c3534cfe1fd3"
      },
      "outputs": [
        {
          "output_type": "display_data",
          "data": {
            "text/plain": [
              "<IPython.core.display.HTML object>"
            ],
            "text/html": [
              "\n",
              "     <input type=\"file\" id=\"files-c0d3a4e4-2487-47db-98ce-281dd0ff0541\" name=\"files[]\" multiple disabled\n",
              "        style=\"border:none\" />\n",
              "     <output id=\"result-c0d3a4e4-2487-47db-98ce-281dd0ff0541\">\n",
              "      Upload widget is only available when the cell has been executed in the\n",
              "      current browser session. Please rerun this cell to enable.\n",
              "      </output>\n",
              "      <script>// Copyright 2017 Google LLC\n",
              "//\n",
              "// Licensed under the Apache License, Version 2.0 (the \"License\");\n",
              "// you may not use this file except in compliance with the License.\n",
              "// You may obtain a copy of the License at\n",
              "//\n",
              "//      http://www.apache.org/licenses/LICENSE-2.0\n",
              "//\n",
              "// Unless required by applicable law or agreed to in writing, software\n",
              "// distributed under the License is distributed on an \"AS IS\" BASIS,\n",
              "// WITHOUT WARRANTIES OR CONDITIONS OF ANY KIND, either express or implied.\n",
              "// See the License for the specific language governing permissions and\n",
              "// limitations under the License.\n",
              "\n",
              "/**\n",
              " * @fileoverview Helpers for google.colab Python module.\n",
              " */\n",
              "(function(scope) {\n",
              "function span(text, styleAttributes = {}) {\n",
              "  const element = document.createElement('span');\n",
              "  element.textContent = text;\n",
              "  for (const key of Object.keys(styleAttributes)) {\n",
              "    element.style[key] = styleAttributes[key];\n",
              "  }\n",
              "  return element;\n",
              "}\n",
              "\n",
              "// Max number of bytes which will be uploaded at a time.\n",
              "const MAX_PAYLOAD_SIZE = 100 * 1024;\n",
              "\n",
              "function _uploadFiles(inputId, outputId) {\n",
              "  const steps = uploadFilesStep(inputId, outputId);\n",
              "  const outputElement = document.getElementById(outputId);\n",
              "  // Cache steps on the outputElement to make it available for the next call\n",
              "  // to uploadFilesContinue from Python.\n",
              "  outputElement.steps = steps;\n",
              "\n",
              "  return _uploadFilesContinue(outputId);\n",
              "}\n",
              "\n",
              "// This is roughly an async generator (not supported in the browser yet),\n",
              "// where there are multiple asynchronous steps and the Python side is going\n",
              "// to poll for completion of each step.\n",
              "// This uses a Promise to block the python side on completion of each step,\n",
              "// then passes the result of the previous step as the input to the next step.\n",
              "function _uploadFilesContinue(outputId) {\n",
              "  const outputElement = document.getElementById(outputId);\n",
              "  const steps = outputElement.steps;\n",
              "\n",
              "  const next = steps.next(outputElement.lastPromiseValue);\n",
              "  return Promise.resolve(next.value.promise).then((value) => {\n",
              "    // Cache the last promise value to make it available to the next\n",
              "    // step of the generator.\n",
              "    outputElement.lastPromiseValue = value;\n",
              "    return next.value.response;\n",
              "  });\n",
              "}\n",
              "\n",
              "/**\n",
              " * Generator function which is called between each async step of the upload\n",
              " * process.\n",
              " * @param {string} inputId Element ID of the input file picker element.\n",
              " * @param {string} outputId Element ID of the output display.\n",
              " * @return {!Iterable<!Object>} Iterable of next steps.\n",
              " */\n",
              "function* uploadFilesStep(inputId, outputId) {\n",
              "  const inputElement = document.getElementById(inputId);\n",
              "  inputElement.disabled = false;\n",
              "\n",
              "  const outputElement = document.getElementById(outputId);\n",
              "  outputElement.innerHTML = '';\n",
              "\n",
              "  const pickedPromise = new Promise((resolve) => {\n",
              "    inputElement.addEventListener('change', (e) => {\n",
              "      resolve(e.target.files);\n",
              "    });\n",
              "  });\n",
              "\n",
              "  const cancel = document.createElement('button');\n",
              "  inputElement.parentElement.appendChild(cancel);\n",
              "  cancel.textContent = 'Cancel upload';\n",
              "  const cancelPromise = new Promise((resolve) => {\n",
              "    cancel.onclick = () => {\n",
              "      resolve(null);\n",
              "    };\n",
              "  });\n",
              "\n",
              "  // Wait for the user to pick the files.\n",
              "  const files = yield {\n",
              "    promise: Promise.race([pickedPromise, cancelPromise]),\n",
              "    response: {\n",
              "      action: 'starting',\n",
              "    }\n",
              "  };\n",
              "\n",
              "  cancel.remove();\n",
              "\n",
              "  // Disable the input element since further picks are not allowed.\n",
              "  inputElement.disabled = true;\n",
              "\n",
              "  if (!files) {\n",
              "    return {\n",
              "      response: {\n",
              "        action: 'complete',\n",
              "      }\n",
              "    };\n",
              "  }\n",
              "\n",
              "  for (const file of files) {\n",
              "    const li = document.createElement('li');\n",
              "    li.append(span(file.name, {fontWeight: 'bold'}));\n",
              "    li.append(span(\n",
              "        `(${file.type || 'n/a'}) - ${file.size} bytes, ` +\n",
              "        `last modified: ${\n",
              "            file.lastModifiedDate ? file.lastModifiedDate.toLocaleDateString() :\n",
              "                                    'n/a'} - `));\n",
              "    const percent = span('0% done');\n",
              "    li.appendChild(percent);\n",
              "\n",
              "    outputElement.appendChild(li);\n",
              "\n",
              "    const fileDataPromise = new Promise((resolve) => {\n",
              "      const reader = new FileReader();\n",
              "      reader.onload = (e) => {\n",
              "        resolve(e.target.result);\n",
              "      };\n",
              "      reader.readAsArrayBuffer(file);\n",
              "    });\n",
              "    // Wait for the data to be ready.\n",
              "    let fileData = yield {\n",
              "      promise: fileDataPromise,\n",
              "      response: {\n",
              "        action: 'continue',\n",
              "      }\n",
              "    };\n",
              "\n",
              "    // Use a chunked sending to avoid message size limits. See b/62115660.\n",
              "    let position = 0;\n",
              "    do {\n",
              "      const length = Math.min(fileData.byteLength - position, MAX_PAYLOAD_SIZE);\n",
              "      const chunk = new Uint8Array(fileData, position, length);\n",
              "      position += length;\n",
              "\n",
              "      const base64 = btoa(String.fromCharCode.apply(null, chunk));\n",
              "      yield {\n",
              "        response: {\n",
              "          action: 'append',\n",
              "          file: file.name,\n",
              "          data: base64,\n",
              "        },\n",
              "      };\n",
              "\n",
              "      let percentDone = fileData.byteLength === 0 ?\n",
              "          100 :\n",
              "          Math.round((position / fileData.byteLength) * 100);\n",
              "      percent.textContent = `${percentDone}% done`;\n",
              "\n",
              "    } while (position < fileData.byteLength);\n",
              "  }\n",
              "\n",
              "  // All done.\n",
              "  yield {\n",
              "    response: {\n",
              "      action: 'complete',\n",
              "    }\n",
              "  };\n",
              "}\n",
              "\n",
              "scope.google = scope.google || {};\n",
              "scope.google.colab = scope.google.colab || {};\n",
              "scope.google.colab._files = {\n",
              "  _uploadFiles,\n",
              "  _uploadFilesContinue,\n",
              "};\n",
              "})(self);\n",
              "</script> "
            ]
          },
          "metadata": {}
        },
        {
          "output_type": "stream",
          "name": "stdout",
          "text": [
            "Saving eda_data.csv to eda_data.csv\n",
            "User uploaded file \"eda_data.csv\" with length 806992 bytes\n"
          ]
        }
      ],
      "source": [
        "from google.colab import files\n",
        "\n",
        "uploaded = files.upload()\n",
        "\n",
        "for fn in uploaded.keys():\n",
        "  print('User uploaded file \"{name}\" with length {length} bytes'.format(\n",
        "      name=fn, length=len(uploaded[fn])))"
      ]
    },
    {
      "cell_type": "code",
      "source": [
        "import io\n",
        "df = pd.read_csv(io.BytesIO(uploaded['eda_data.csv']))\n",
        "df.shape"
      ],
      "metadata": {
        "colab": {
          "base_uri": "https://localhost:8080/"
        },
        "id": "00GtQZInYkcA",
        "outputId": "75f3603d-9d27-464a-b427-5aef4e0b6070"
      },
      "execution_count": 3,
      "outputs": [
        {
          "output_type": "execute_result",
          "data": {
            "text/plain": [
              "(4113, 18)"
            ]
          },
          "metadata": {},
          "execution_count": 3
        }
      ]
    },
    {
      "cell_type": "markdown",
      "source": [
        "## Inspect the data"
      ],
      "metadata": {
        "id": "5dXR9kvOxaAR"
      }
    },
    {
      "cell_type": "code",
      "source": [
        "df.info()"
      ],
      "metadata": {
        "colab": {
          "base_uri": "https://localhost:8080/"
        },
        "id": "knsx_pxaxY-6",
        "outputId": "20e50e33-dbca-4cb1-fbe2-02c0afc7f9ee"
      },
      "execution_count": 4,
      "outputs": [
        {
          "output_type": "stream",
          "name": "stdout",
          "text": [
            "<class 'pandas.core.frame.DataFrame'>\n",
            "RangeIndex: 4113 entries, 0 to 4112\n",
            "Data columns (total 18 columns):\n",
            " #   Column                             Non-Null Count  Dtype  \n",
            "---  ------                             --------------  -----  \n",
            " 0   Item Description-original          4113 non-null   object \n",
            " 1   Item Description - cleaned         4113 non-null   object \n",
            " 2   Transfer Authority                 4113 non-null   object \n",
            " 3   Fiscal Year of Request             4113 non-null   object \n",
            " 4   Implementing Agency                4113 non-null   object \n",
            " 5   Country (Transfer to)              4113 non-null   object \n",
            " 6   Status                             4113 non-null   object \n",
            " 7   Status Date                        4113 non-null   object \n",
            " 8   Qty Requested                      4113 non-null   int64  \n",
            " 9   Qty Allocated                      4113 non-null   object \n",
            " 10  Qty Accepted                       4113 non-null   int64  \n",
            " 11  Qty Rejected                       4113 non-null   int64  \n",
            " 12  Total Delivered Qty                4113 non-null   int64  \n",
            " 13  Total Acquisition Value            4112 non-null   float64\n",
            " 14  Total Current Value                4111 non-null   float64\n",
            " 15  Reduced Price Value (%)            4113 non-null   object \n",
            " 16  Request to Status Duration (Days)  4113 non-null   int64  \n",
            " 17  Grant Pricing                      4113 non-null   float64\n",
            "dtypes: float64(3), int64(5), object(10)\n",
            "memory usage: 578.5+ KB\n"
          ]
        }
      ]
    },
    {
      "cell_type": "code",
      "source": [
        "df.describe()"
      ],
      "metadata": {
        "colab": {
          "base_uri": "https://localhost:8080/",
          "height": 318
        },
        "id": "w18IH9MDzRBu",
        "outputId": "863fa949-51b4-4dfc-83cd-b4591efe2972"
      },
      "execution_count": 5,
      "outputs": [
        {
          "output_type": "execute_result",
          "data": {
            "text/plain": [
              "       Qty Requested  Qty Accepted    Qty Rejected  Total Delivered Qty  \\\n",
              "count   4.113000e+03  4.113000e+03     4113.000000         4.113000e+03   \n",
              "mean    5.236023e+04  7.975120e+03      397.891077         1.729981e+04   \n",
              "std     7.521134e+05  3.531358e+05    18274.542193         4.914239e+05   \n",
              "min    -9.990000e+02 -9.990000e+02     -999.000000        -9.990000e+02   \n",
              "25%     1.000000e+00  0.000000e+00        0.000000         0.000000e+00   \n",
              "50%     3.000000e+00  0.000000e+00        0.000000         0.000000e+00   \n",
              "75%     3.400000e+01  1.000000e+00        0.000000         1.000000e+00   \n",
              "max     2.342582e+07  2.142558e+07  1000000.000000         2.142558e+07   \n",
              "\n",
              "       Total Acquisition Value  Total Current Value  \\\n",
              "count             4.112000e+03         4.111000e+03   \n",
              "mean              6.449672e+06         1.027025e+06   \n",
              "std               3.528174e+07         6.311961e+06   \n",
              "min               0.000000e+00         0.000000e+00   \n",
              "25%               3.747725e+04         9.068250e+03   \n",
              "50%               1.900740e+05         4.913820e+04   \n",
              "75%               1.154636e+06         2.531300e+05   \n",
              "max               9.573756e+08         1.809981e+08   \n",
              "\n",
              "       Request to Status Duration (Days)  Grant Pricing  \n",
              "count                        4113.000000   4.113000e+03  \n",
              "mean                          462.840749   2.585325e+05  \n",
              "std                           367.668584   1.412200e+06  \n",
              "min                             2.000000   0.000000e+00  \n",
              "25%                           217.000000   1.716922e+03  \n",
              "50%                           351.000000   8.477302e+03  \n",
              "75%                           637.000000   5.100000e+04  \n",
              "max                          2644.000000   3.657175e+07  "
            ],
            "text/html": [
              "\n",
              "  <div id=\"df-da4346df-d27b-4db9-b478-e20ab994e5c2\" class=\"colab-df-container\">\n",
              "    <div>\n",
              "<style scoped>\n",
              "    .dataframe tbody tr th:only-of-type {\n",
              "        vertical-align: middle;\n",
              "    }\n",
              "\n",
              "    .dataframe tbody tr th {\n",
              "        vertical-align: top;\n",
              "    }\n",
              "\n",
              "    .dataframe thead th {\n",
              "        text-align: right;\n",
              "    }\n",
              "</style>\n",
              "<table border=\"1\" class=\"dataframe\">\n",
              "  <thead>\n",
              "    <tr style=\"text-align: right;\">\n",
              "      <th></th>\n",
              "      <th>Qty Requested</th>\n",
              "      <th>Qty Accepted</th>\n",
              "      <th>Qty Rejected</th>\n",
              "      <th>Total Delivered Qty</th>\n",
              "      <th>Total Acquisition Value</th>\n",
              "      <th>Total Current Value</th>\n",
              "      <th>Request to Status Duration (Days)</th>\n",
              "      <th>Grant Pricing</th>\n",
              "    </tr>\n",
              "  </thead>\n",
              "  <tbody>\n",
              "    <tr>\n",
              "      <th>count</th>\n",
              "      <td>4.113000e+03</td>\n",
              "      <td>4.113000e+03</td>\n",
              "      <td>4113.000000</td>\n",
              "      <td>4.113000e+03</td>\n",
              "      <td>4.112000e+03</td>\n",
              "      <td>4.111000e+03</td>\n",
              "      <td>4113.000000</td>\n",
              "      <td>4.113000e+03</td>\n",
              "    </tr>\n",
              "    <tr>\n",
              "      <th>mean</th>\n",
              "      <td>5.236023e+04</td>\n",
              "      <td>7.975120e+03</td>\n",
              "      <td>397.891077</td>\n",
              "      <td>1.729981e+04</td>\n",
              "      <td>6.449672e+06</td>\n",
              "      <td>1.027025e+06</td>\n",
              "      <td>462.840749</td>\n",
              "      <td>2.585325e+05</td>\n",
              "    </tr>\n",
              "    <tr>\n",
              "      <th>std</th>\n",
              "      <td>7.521134e+05</td>\n",
              "      <td>3.531358e+05</td>\n",
              "      <td>18274.542193</td>\n",
              "      <td>4.914239e+05</td>\n",
              "      <td>3.528174e+07</td>\n",
              "      <td>6.311961e+06</td>\n",
              "      <td>367.668584</td>\n",
              "      <td>1.412200e+06</td>\n",
              "    </tr>\n",
              "    <tr>\n",
              "      <th>min</th>\n",
              "      <td>-9.990000e+02</td>\n",
              "      <td>-9.990000e+02</td>\n",
              "      <td>-999.000000</td>\n",
              "      <td>-9.990000e+02</td>\n",
              "      <td>0.000000e+00</td>\n",
              "      <td>0.000000e+00</td>\n",
              "      <td>2.000000</td>\n",
              "      <td>0.000000e+00</td>\n",
              "    </tr>\n",
              "    <tr>\n",
              "      <th>25%</th>\n",
              "      <td>1.000000e+00</td>\n",
              "      <td>0.000000e+00</td>\n",
              "      <td>0.000000</td>\n",
              "      <td>0.000000e+00</td>\n",
              "      <td>3.747725e+04</td>\n",
              "      <td>9.068250e+03</td>\n",
              "      <td>217.000000</td>\n",
              "      <td>1.716922e+03</td>\n",
              "    </tr>\n",
              "    <tr>\n",
              "      <th>50%</th>\n",
              "      <td>3.000000e+00</td>\n",
              "      <td>0.000000e+00</td>\n",
              "      <td>0.000000</td>\n",
              "      <td>0.000000e+00</td>\n",
              "      <td>1.900740e+05</td>\n",
              "      <td>4.913820e+04</td>\n",
              "      <td>351.000000</td>\n",
              "      <td>8.477302e+03</td>\n",
              "    </tr>\n",
              "    <tr>\n",
              "      <th>75%</th>\n",
              "      <td>3.400000e+01</td>\n",
              "      <td>1.000000e+00</td>\n",
              "      <td>0.000000</td>\n",
              "      <td>1.000000e+00</td>\n",
              "      <td>1.154636e+06</td>\n",
              "      <td>2.531300e+05</td>\n",
              "      <td>637.000000</td>\n",
              "      <td>5.100000e+04</td>\n",
              "    </tr>\n",
              "    <tr>\n",
              "      <th>max</th>\n",
              "      <td>2.342582e+07</td>\n",
              "      <td>2.142558e+07</td>\n",
              "      <td>1000000.000000</td>\n",
              "      <td>2.142558e+07</td>\n",
              "      <td>9.573756e+08</td>\n",
              "      <td>1.809981e+08</td>\n",
              "      <td>2644.000000</td>\n",
              "      <td>3.657175e+07</td>\n",
              "    </tr>\n",
              "  </tbody>\n",
              "</table>\n",
              "</div>\n",
              "    <div class=\"colab-df-buttons\">\n",
              "\n",
              "  <div class=\"colab-df-container\">\n",
              "    <button class=\"colab-df-convert\" onclick=\"convertToInteractive('df-da4346df-d27b-4db9-b478-e20ab994e5c2')\"\n",
              "            title=\"Convert this dataframe to an interactive table.\"\n",
              "            style=\"display:none;\">\n",
              "\n",
              "  <svg xmlns=\"http://www.w3.org/2000/svg\" height=\"24px\" viewBox=\"0 -960 960 960\">\n",
              "    <path d=\"M120-120v-720h720v720H120Zm60-500h600v-160H180v160Zm220 220h160v-160H400v160Zm0 220h160v-160H400v160ZM180-400h160v-160H180v160Zm440 0h160v-160H620v160ZM180-180h160v-160H180v160Zm440 0h160v-160H620v160Z\"/>\n",
              "  </svg>\n",
              "    </button>\n",
              "\n",
              "  <style>\n",
              "    .colab-df-container {\n",
              "      display:flex;\n",
              "      gap: 12px;\n",
              "    }\n",
              "\n",
              "    .colab-df-convert {\n",
              "      background-color: #E8F0FE;\n",
              "      border: none;\n",
              "      border-radius: 50%;\n",
              "      cursor: pointer;\n",
              "      display: none;\n",
              "      fill: #1967D2;\n",
              "      height: 32px;\n",
              "      padding: 0 0 0 0;\n",
              "      width: 32px;\n",
              "    }\n",
              "\n",
              "    .colab-df-convert:hover {\n",
              "      background-color: #E2EBFA;\n",
              "      box-shadow: 0px 1px 2px rgba(60, 64, 67, 0.3), 0px 1px 3px 1px rgba(60, 64, 67, 0.15);\n",
              "      fill: #174EA6;\n",
              "    }\n",
              "\n",
              "    .colab-df-buttons div {\n",
              "      margin-bottom: 4px;\n",
              "    }\n",
              "\n",
              "    [theme=dark] .colab-df-convert {\n",
              "      background-color: #3B4455;\n",
              "      fill: #D2E3FC;\n",
              "    }\n",
              "\n",
              "    [theme=dark] .colab-df-convert:hover {\n",
              "      background-color: #434B5C;\n",
              "      box-shadow: 0px 1px 3px 1px rgba(0, 0, 0, 0.15);\n",
              "      filter: drop-shadow(0px 1px 2px rgba(0, 0, 0, 0.3));\n",
              "      fill: #FFFFFF;\n",
              "    }\n",
              "  </style>\n",
              "\n",
              "    <script>\n",
              "      const buttonEl =\n",
              "        document.querySelector('#df-da4346df-d27b-4db9-b478-e20ab994e5c2 button.colab-df-convert');\n",
              "      buttonEl.style.display =\n",
              "        google.colab.kernel.accessAllowed ? 'block' : 'none';\n",
              "\n",
              "      async function convertToInteractive(key) {\n",
              "        const element = document.querySelector('#df-da4346df-d27b-4db9-b478-e20ab994e5c2');\n",
              "        const dataTable =\n",
              "          await google.colab.kernel.invokeFunction('convertToInteractive',\n",
              "                                                    [key], {});\n",
              "        if (!dataTable) return;\n",
              "\n",
              "        const docLinkHtml = 'Like what you see? Visit the ' +\n",
              "          '<a target=\"_blank\" href=https://colab.research.google.com/notebooks/data_table.ipynb>data table notebook</a>'\n",
              "          + ' to learn more about interactive tables.';\n",
              "        element.innerHTML = '';\n",
              "        dataTable['output_type'] = 'display_data';\n",
              "        await google.colab.output.renderOutput(dataTable, element);\n",
              "        const docLink = document.createElement('div');\n",
              "        docLink.innerHTML = docLinkHtml;\n",
              "        element.appendChild(docLink);\n",
              "      }\n",
              "    </script>\n",
              "  </div>\n",
              "\n",
              "\n",
              "<div id=\"df-7aad083d-093e-4ee8-a00a-cd1e80bf4c2d\">\n",
              "  <button class=\"colab-df-quickchart\" onclick=\"quickchart('df-7aad083d-093e-4ee8-a00a-cd1e80bf4c2d')\"\n",
              "            title=\"Suggest charts\"\n",
              "            style=\"display:none;\">\n",
              "\n",
              "<svg xmlns=\"http://www.w3.org/2000/svg\" height=\"24px\"viewBox=\"0 0 24 24\"\n",
              "     width=\"24px\">\n",
              "    <g>\n",
              "        <path d=\"M19 3H5c-1.1 0-2 .9-2 2v14c0 1.1.9 2 2 2h14c1.1 0 2-.9 2-2V5c0-1.1-.9-2-2-2zM9 17H7v-7h2v7zm4 0h-2V7h2v10zm4 0h-2v-4h2v4z\"/>\n",
              "    </g>\n",
              "</svg>\n",
              "  </button>\n",
              "\n",
              "<style>\n",
              "  .colab-df-quickchart {\n",
              "      --bg-color: #E8F0FE;\n",
              "      --fill-color: #1967D2;\n",
              "      --hover-bg-color: #E2EBFA;\n",
              "      --hover-fill-color: #174EA6;\n",
              "      --disabled-fill-color: #AAA;\n",
              "      --disabled-bg-color: #DDD;\n",
              "  }\n",
              "\n",
              "  [theme=dark] .colab-df-quickchart {\n",
              "      --bg-color: #3B4455;\n",
              "      --fill-color: #D2E3FC;\n",
              "      --hover-bg-color: #434B5C;\n",
              "      --hover-fill-color: #FFFFFF;\n",
              "      --disabled-bg-color: #3B4455;\n",
              "      --disabled-fill-color: #666;\n",
              "  }\n",
              "\n",
              "  .colab-df-quickchart {\n",
              "    background-color: var(--bg-color);\n",
              "    border: none;\n",
              "    border-radius: 50%;\n",
              "    cursor: pointer;\n",
              "    display: none;\n",
              "    fill: var(--fill-color);\n",
              "    height: 32px;\n",
              "    padding: 0;\n",
              "    width: 32px;\n",
              "  }\n",
              "\n",
              "  .colab-df-quickchart:hover {\n",
              "    background-color: var(--hover-bg-color);\n",
              "    box-shadow: 0 1px 2px rgba(60, 64, 67, 0.3), 0 1px 3px 1px rgba(60, 64, 67, 0.15);\n",
              "    fill: var(--button-hover-fill-color);\n",
              "  }\n",
              "\n",
              "  .colab-df-quickchart-complete:disabled,\n",
              "  .colab-df-quickchart-complete:disabled:hover {\n",
              "    background-color: var(--disabled-bg-color);\n",
              "    fill: var(--disabled-fill-color);\n",
              "    box-shadow: none;\n",
              "  }\n",
              "\n",
              "  .colab-df-spinner {\n",
              "    border: 2px solid var(--fill-color);\n",
              "    border-color: transparent;\n",
              "    border-bottom-color: var(--fill-color);\n",
              "    animation:\n",
              "      spin 1s steps(1) infinite;\n",
              "  }\n",
              "\n",
              "  @keyframes spin {\n",
              "    0% {\n",
              "      border-color: transparent;\n",
              "      border-bottom-color: var(--fill-color);\n",
              "      border-left-color: var(--fill-color);\n",
              "    }\n",
              "    20% {\n",
              "      border-color: transparent;\n",
              "      border-left-color: var(--fill-color);\n",
              "      border-top-color: var(--fill-color);\n",
              "    }\n",
              "    30% {\n",
              "      border-color: transparent;\n",
              "      border-left-color: var(--fill-color);\n",
              "      border-top-color: var(--fill-color);\n",
              "      border-right-color: var(--fill-color);\n",
              "    }\n",
              "    40% {\n",
              "      border-color: transparent;\n",
              "      border-right-color: var(--fill-color);\n",
              "      border-top-color: var(--fill-color);\n",
              "    }\n",
              "    60% {\n",
              "      border-color: transparent;\n",
              "      border-right-color: var(--fill-color);\n",
              "    }\n",
              "    80% {\n",
              "      border-color: transparent;\n",
              "      border-right-color: var(--fill-color);\n",
              "      border-bottom-color: var(--fill-color);\n",
              "    }\n",
              "    90% {\n",
              "      border-color: transparent;\n",
              "      border-bottom-color: var(--fill-color);\n",
              "    }\n",
              "  }\n",
              "</style>\n",
              "\n",
              "  <script>\n",
              "    async function quickchart(key) {\n",
              "      const quickchartButtonEl =\n",
              "        document.querySelector('#' + key + ' button');\n",
              "      quickchartButtonEl.disabled = true;  // To prevent multiple clicks.\n",
              "      quickchartButtonEl.classList.add('colab-df-spinner');\n",
              "      try {\n",
              "        const charts = await google.colab.kernel.invokeFunction(\n",
              "            'suggestCharts', [key], {});\n",
              "      } catch (error) {\n",
              "        console.error('Error during call to suggestCharts:', error);\n",
              "      }\n",
              "      quickchartButtonEl.classList.remove('colab-df-spinner');\n",
              "      quickchartButtonEl.classList.add('colab-df-quickchart-complete');\n",
              "    }\n",
              "    (() => {\n",
              "      let quickchartButtonEl =\n",
              "        document.querySelector('#df-7aad083d-093e-4ee8-a00a-cd1e80bf4c2d button');\n",
              "      quickchartButtonEl.style.display =\n",
              "        google.colab.kernel.accessAllowed ? 'block' : 'none';\n",
              "    })();\n",
              "  </script>\n",
              "</div>\n",
              "\n",
              "    </div>\n",
              "  </div>\n"
            ],
            "application/vnd.google.colaboratory.intrinsic+json": {
              "type": "dataframe",
              "summary": "{\n  \"name\": \"df\",\n  \"rows\": 8,\n  \"fields\": [\n    {\n      \"column\": \"Qty Requested\",\n      \"properties\": {\n        \"dtype\": \"number\",\n        \"std\": 8245606.576306719,\n        \"min\": -999.0,\n        \"max\": 23425825.0,\n        \"num_unique_values\": 8,\n        \"samples\": [\n          52360.230002431315,\n          3.0,\n          4113.0\n        ],\n        \"semantic_type\": \"\",\n        \"description\": \"\"\n      }\n    },\n    {\n      \"column\": \"Qty Accepted\",\n      \"properties\": {\n        \"dtype\": \"number\",\n        \"std\": 7557690.592920022,\n        \"min\": -999.0,\n        \"max\": 21425580.0,\n        \"num_unique_values\": 7,\n        \"samples\": [\n          4113.0,\n          7975.12035010941,\n          1.0\n        ],\n        \"semantic_type\": \"\",\n        \"description\": \"\"\n      }\n    },\n    {\n      \"column\": \"Qty Rejected\",\n      \"properties\": {\n        \"dtype\": \"number\",\n        \"std\": 352510.60623920086,\n        \"min\": -999.0,\n        \"max\": 1000000.0,\n        \"num_unique_values\": 6,\n        \"samples\": [\n          4113.0,\n          397.8910770726963,\n          1000000.0\n        ],\n        \"semantic_type\": \"\",\n        \"description\": \"\"\n      }\n    },\n    {\n      \"column\": \"Total Delivered Qty\",\n      \"properties\": {\n        \"dtype\": \"number\",\n        \"std\": 7551168.314044685,\n        \"min\": -999.0,\n        \"max\": 21425580.0,\n        \"num_unique_values\": 7,\n        \"samples\": [\n          4113.0,\n          17299.80938487722,\n          1.0\n        ],\n        \"semantic_type\": \"\",\n        \"description\": \"\"\n      }\n    },\n    {\n      \"column\": \"Total Acquisition Value\",\n      \"properties\": {\n        \"dtype\": \"number\",\n        \"std\": 336522648.62695646,\n        \"min\": 0.0,\n        \"max\": 957375600.0,\n        \"num_unique_values\": 8,\n        \"samples\": [\n          6449672.405391538,\n          190074.05,\n          4112.0\n        ],\n        \"semantic_type\": \"\",\n        \"description\": \"\"\n      }\n    },\n    {\n      \"column\": \"Total Current Value\",\n      \"properties\": {\n        \"dtype\": \"number\",\n        \"std\": 63642464.13609167,\n        \"min\": 0.0,\n        \"max\": 180998070.0,\n        \"num_unique_values\": 8,\n        \"samples\": [\n          1027024.7124714181,\n          49138.2,\n          4111.0\n        ],\n        \"semantic_type\": \"\",\n        \"description\": \"\"\n      }\n    },\n    {\n      \"column\": \"Request to Status Duration (Days)\",\n      \"properties\": {\n        \"dtype\": \"number\",\n        \"std\": 1471.8814706856313,\n        \"min\": 2.0,\n        \"max\": 4113.0,\n        \"num_unique_values\": 8,\n        \"samples\": [\n          462.84074884512523,\n          351.0,\n          4113.0\n        ],\n        \"semantic_type\": \"\",\n        \"description\": \"\"\n      }\n    },\n    {\n      \"column\": \"Grant Pricing\",\n      \"properties\": {\n        \"dtype\": \"number\",\n        \"std\": 12851463.294332482,\n        \"min\": 0.0,\n        \"max\": 36571747.92,\n        \"num_unique_values\": 8,\n        \"samples\": [\n          258532.45990292972,\n          8477.30247,\n          4113.0\n        ],\n        \"semantic_type\": \"\",\n        \"description\": \"\"\n      }\n    }\n  ]\n}"
            }
          },
          "metadata": {},
          "execution_count": 5
        }
      ]
    },
    {
      "cell_type": "markdown",
      "source": [
        "## K-Means"
      ],
      "metadata": {
        "id": "cx8k5QZG0-7j"
      }
    },
    {
      "cell_type": "code",
      "source": [
        "# Define K-means model\n",
        "kmeans_model = KMeans(init='k-means++',  max_iter=400, random_state=42)"
      ],
      "metadata": {
        "id": "gUueTfZU0rGW"
      },
      "execution_count": 6,
      "outputs": []
    },
    {
      "cell_type": "code",
      "source": [
        "# Train the model\n",
        "kmeans_model.fit(df[['Request to Status Duration (Days)','Qty Requested',\n",
        "'Grant Pricing']])"
      ],
      "metadata": {
        "colab": {
          "base_uri": "https://localhost:8080/",
          "height": 129
        },
        "id": "yTaQUjsY1DGj",
        "outputId": "fb425a62-db77-49f2-b158-e4999bd07f70"
      },
      "execution_count": 7,
      "outputs": [
        {
          "output_type": "stream",
          "name": "stderr",
          "text": [
            "/usr/local/lib/python3.10/dist-packages/sklearn/cluster/_kmeans.py:870: FutureWarning: The default value of `n_init` will change from 10 to 'auto' in 1.4. Set the value of `n_init` explicitly to suppress the warning\n",
            "  warnings.warn(\n"
          ]
        },
        {
          "output_type": "execute_result",
          "data": {
            "text/plain": [
              "KMeans(max_iter=400, random_state=42)"
            ],
            "text/html": [
              "<style>#sk-container-id-1 {color: black;background-color: white;}#sk-container-id-1 pre{padding: 0;}#sk-container-id-1 div.sk-toggleable {background-color: white;}#sk-container-id-1 label.sk-toggleable__label {cursor: pointer;display: block;width: 100%;margin-bottom: 0;padding: 0.3em;box-sizing: border-box;text-align: center;}#sk-container-id-1 label.sk-toggleable__label-arrow:before {content: \"▸\";float: left;margin-right: 0.25em;color: #696969;}#sk-container-id-1 label.sk-toggleable__label-arrow:hover:before {color: black;}#sk-container-id-1 div.sk-estimator:hover label.sk-toggleable__label-arrow:before {color: black;}#sk-container-id-1 div.sk-toggleable__content {max-height: 0;max-width: 0;overflow: hidden;text-align: left;background-color: #f0f8ff;}#sk-container-id-1 div.sk-toggleable__content pre {margin: 0.2em;color: black;border-radius: 0.25em;background-color: #f0f8ff;}#sk-container-id-1 input.sk-toggleable__control:checked~div.sk-toggleable__content {max-height: 200px;max-width: 100%;overflow: auto;}#sk-container-id-1 input.sk-toggleable__control:checked~label.sk-toggleable__label-arrow:before {content: \"▾\";}#sk-container-id-1 div.sk-estimator input.sk-toggleable__control:checked~label.sk-toggleable__label {background-color: #d4ebff;}#sk-container-id-1 div.sk-label input.sk-toggleable__control:checked~label.sk-toggleable__label {background-color: #d4ebff;}#sk-container-id-1 input.sk-hidden--visually {border: 0;clip: rect(1px 1px 1px 1px);clip: rect(1px, 1px, 1px, 1px);height: 1px;margin: -1px;overflow: hidden;padding: 0;position: absolute;width: 1px;}#sk-container-id-1 div.sk-estimator {font-family: monospace;background-color: #f0f8ff;border: 1px dotted black;border-radius: 0.25em;box-sizing: border-box;margin-bottom: 0.5em;}#sk-container-id-1 div.sk-estimator:hover {background-color: #d4ebff;}#sk-container-id-1 div.sk-parallel-item::after {content: \"\";width: 100%;border-bottom: 1px solid gray;flex-grow: 1;}#sk-container-id-1 div.sk-label:hover label.sk-toggleable__label {background-color: #d4ebff;}#sk-container-id-1 div.sk-serial::before {content: \"\";position: absolute;border-left: 1px solid gray;box-sizing: border-box;top: 0;bottom: 0;left: 50%;z-index: 0;}#sk-container-id-1 div.sk-serial {display: flex;flex-direction: column;align-items: center;background-color: white;padding-right: 0.2em;padding-left: 0.2em;position: relative;}#sk-container-id-1 div.sk-item {position: relative;z-index: 1;}#sk-container-id-1 div.sk-parallel {display: flex;align-items: stretch;justify-content: center;background-color: white;position: relative;}#sk-container-id-1 div.sk-item::before, #sk-container-id-1 div.sk-parallel-item::before {content: \"\";position: absolute;border-left: 1px solid gray;box-sizing: border-box;top: 0;bottom: 0;left: 50%;z-index: -1;}#sk-container-id-1 div.sk-parallel-item {display: flex;flex-direction: column;z-index: 1;position: relative;background-color: white;}#sk-container-id-1 div.sk-parallel-item:first-child::after {align-self: flex-end;width: 50%;}#sk-container-id-1 div.sk-parallel-item:last-child::after {align-self: flex-start;width: 50%;}#sk-container-id-1 div.sk-parallel-item:only-child::after {width: 0;}#sk-container-id-1 div.sk-dashed-wrapped {border: 1px dashed gray;margin: 0 0.4em 0.5em 0.4em;box-sizing: border-box;padding-bottom: 0.4em;background-color: white;}#sk-container-id-1 div.sk-label label {font-family: monospace;font-weight: bold;display: inline-block;line-height: 1.2em;}#sk-container-id-1 div.sk-label-container {text-align: center;}#sk-container-id-1 div.sk-container {/* jupyter's `normalize.less` sets `[hidden] { display: none; }` but bootstrap.min.css set `[hidden] { display: none !important; }` so we also need the `!important` here to be able to override the default hidden behavior on the sphinx rendered scikit-learn.org. See: https://github.com/scikit-learn/scikit-learn/issues/21755 */display: inline-block !important;position: relative;}#sk-container-id-1 div.sk-text-repr-fallback {display: none;}</style><div id=\"sk-container-id-1\" class=\"sk-top-container\"><div class=\"sk-text-repr-fallback\"><pre>KMeans(max_iter=400, random_state=42)</pre><b>In a Jupyter environment, please rerun this cell to show the HTML representation or trust the notebook. <br />On GitHub, the HTML representation is unable to render, please try loading this page with nbviewer.org.</b></div><div class=\"sk-container\" hidden><div class=\"sk-item\"><div class=\"sk-estimator sk-toggleable\"><input class=\"sk-toggleable__control sk-hidden--visually\" id=\"sk-estimator-id-1\" type=\"checkbox\" checked><label for=\"sk-estimator-id-1\" class=\"sk-toggleable__label sk-toggleable__label-arrow\">KMeans</label><div class=\"sk-toggleable__content\"><pre>KMeans(max_iter=400, random_state=42)</pre></div></div></div></div></div>"
            ]
          },
          "metadata": {},
          "execution_count": 7
        }
      ]
    },
    {
      "cell_type": "markdown",
      "source": [
        "### Elbow Method\n",
        "Identify the best k-value by measuring the sum of squares within each cluster.\n"
      ],
      "metadata": {
        "id": "8HYSH_Xi3ZiM"
      }
    },
    {
      "cell_type": "code",
      "source": [
        "# Create the K means model for different values of K\n",
        "def try_different_clusters(K, data):\n",
        "\n",
        "    cluster_values = list(range(1, K+1))\n",
        "    inertias=[]\n",
        "\n",
        "    for c in cluster_values:\n",
        "        model = KMeans(n_clusters = c,init='k-means++',max_iter=400,random_state=42)\n",
        "        model.fit(data)\n",
        "        inertias.append(model.inertia_)\n",
        "\n",
        "    return inertias"
      ],
      "metadata": {
        "id": "0OjRwUWK3Erl"
      },
      "execution_count": 8,
      "outputs": []
    },
    {
      "cell_type": "code",
      "source": [
        "# Find output for k values between 1 to 12\n",
        "outputs = try_different_clusters(12, df[['Request to Status Duration (Days)','Qty Requested',\n",
        "'Grant Pricing']])\n",
        "distances = pd.DataFrame({\"clusters\": list(range(1, 13)),\"sum of squared distances\": outputs})"
      ],
      "metadata": {
        "colab": {
          "base_uri": "https://localhost:8080/"
        },
        "id": "h7J9CGUJ3pEH",
        "outputId": "f6d37cce-5629-4520-fb9b-7d31b5f146cb"
      },
      "execution_count": 9,
      "outputs": [
        {
          "output_type": "stream",
          "name": "stderr",
          "text": [
            "/usr/local/lib/python3.10/dist-packages/sklearn/cluster/_kmeans.py:870: FutureWarning: The default value of `n_init` will change from 10 to 'auto' in 1.4. Set the value of `n_init` explicitly to suppress the warning\n",
            "  warnings.warn(\n",
            "/usr/local/lib/python3.10/dist-packages/sklearn/cluster/_kmeans.py:870: FutureWarning: The default value of `n_init` will change from 10 to 'auto' in 1.4. Set the value of `n_init` explicitly to suppress the warning\n",
            "  warnings.warn(\n",
            "/usr/local/lib/python3.10/dist-packages/sklearn/cluster/_kmeans.py:870: FutureWarning: The default value of `n_init` will change from 10 to 'auto' in 1.4. Set the value of `n_init` explicitly to suppress the warning\n",
            "  warnings.warn(\n",
            "/usr/local/lib/python3.10/dist-packages/sklearn/cluster/_kmeans.py:870: FutureWarning: The default value of `n_init` will change from 10 to 'auto' in 1.4. Set the value of `n_init` explicitly to suppress the warning\n",
            "  warnings.warn(\n",
            "/usr/local/lib/python3.10/dist-packages/sklearn/cluster/_kmeans.py:870: FutureWarning: The default value of `n_init` will change from 10 to 'auto' in 1.4. Set the value of `n_init` explicitly to suppress the warning\n",
            "  warnings.warn(\n",
            "/usr/local/lib/python3.10/dist-packages/sklearn/cluster/_kmeans.py:870: FutureWarning: The default value of `n_init` will change from 10 to 'auto' in 1.4. Set the value of `n_init` explicitly to suppress the warning\n",
            "  warnings.warn(\n",
            "/usr/local/lib/python3.10/dist-packages/sklearn/cluster/_kmeans.py:870: FutureWarning: The default value of `n_init` will change from 10 to 'auto' in 1.4. Set the value of `n_init` explicitly to suppress the warning\n",
            "  warnings.warn(\n",
            "/usr/local/lib/python3.10/dist-packages/sklearn/cluster/_kmeans.py:870: FutureWarning: The default value of `n_init` will change from 10 to 'auto' in 1.4. Set the value of `n_init` explicitly to suppress the warning\n",
            "  warnings.warn(\n",
            "/usr/local/lib/python3.10/dist-packages/sklearn/cluster/_kmeans.py:870: FutureWarning: The default value of `n_init` will change from 10 to 'auto' in 1.4. Set the value of `n_init` explicitly to suppress the warning\n",
            "  warnings.warn(\n",
            "/usr/local/lib/python3.10/dist-packages/sklearn/cluster/_kmeans.py:870: FutureWarning: The default value of `n_init` will change from 10 to 'auto' in 1.4. Set the value of `n_init` explicitly to suppress the warning\n",
            "  warnings.warn(\n",
            "/usr/local/lib/python3.10/dist-packages/sklearn/cluster/_kmeans.py:870: FutureWarning: The default value of `n_init` will change from 10 to 'auto' in 1.4. Set the value of `n_init` explicitly to suppress the warning\n",
            "  warnings.warn(\n",
            "/usr/local/lib/python3.10/dist-packages/sklearn/cluster/_kmeans.py:870: FutureWarning: The default value of `n_init` will change from 10 to 'auto' in 1.4. Set the value of `n_init` explicitly to suppress the warning\n",
            "  warnings.warn(\n"
          ]
        }
      ]
    },
    {
      "cell_type": "code",
      "source": [
        "# Finding optimal number of clusters k\n",
        "figure = go.Figure()\n",
        "figure.add_trace(go.Scatter(x=distances[\"clusters\"], y=distances[\"sum of squared distances\"]))\n",
        "\n",
        "figure.update_layout(xaxis = dict(tick0 = 1,dtick = 1,tickmode = 'linear'),\n",
        "                  xaxis_title=\"Number of clusters\",\n",
        "                  yaxis_title=\"Sum of squared distances\",\n",
        "                  title_text=\"Finding optimal number of clusters using elbow method\")\n",
        "figure.show()"
      ],
      "metadata": {
        "colab": {
          "base_uri": "https://localhost:8080/",
          "height": 542
        },
        "id": "JHRj1vl73v4s",
        "outputId": "bf8d58d6-5388-48d1-8f3c-32c0754f8655"
      },
      "execution_count": 10,
      "outputs": [
        {
          "output_type": "display_data",
          "data": {
            "text/html": [
              "<html>\n",
              "<head><meta charset=\"utf-8\" /></head>\n",
              "<body>\n",
              "    <div>            <script src=\"https://cdnjs.cloudflare.com/ajax/libs/mathjax/2.7.5/MathJax.js?config=TeX-AMS-MML_SVG\"></script><script type=\"text/javascript\">if (window.MathJax && window.MathJax.Hub && window.MathJax.Hub.Config) {window.MathJax.Hub.Config({SVG: {font: \"STIX-Web\"}});}</script>                <script type=\"text/javascript\">window.PlotlyConfig = {MathJaxConfig: 'local'};</script>\n",
              "        <script charset=\"utf-8\" src=\"https://cdn.plot.ly/plotly-2.24.1.min.js\"></script>                <div id=\"cef80fd0-a51c-4715-9594-27de6075f3e7\" class=\"plotly-graph-div\" style=\"height:525px; width:100%;\"></div>            <script type=\"text/javascript\">                                    window.PLOTLYENV=window.PLOTLYENV || {};                                    if (document.getElementById(\"cef80fd0-a51c-4715-9594-27de6075f3e7\")) {                    Plotly.newPlot(                        \"cef80fd0-a51c-4715-9594-27de6075f3e7\",                        [{\"x\":[1,2,3,4,5,6,7,8,9,10,11,12],\"y\":[1.052665424169419e+16,5454641280351285.0,3568786494571950.0,1944812972650032.8,1245927031975966.5,914878940711023.9,655811116032734.5,496835598701398.44,415644165043770.5,352298116897355.44,293127984500521.25,237015300746391.84],\"type\":\"scatter\"}],                        {\"template\":{\"data\":{\"histogram2dcontour\":[{\"type\":\"histogram2dcontour\",\"colorbar\":{\"outlinewidth\":0,\"ticks\":\"\"},\"colorscale\":[[0.0,\"#0d0887\"],[0.1111111111111111,\"#46039f\"],[0.2222222222222222,\"#7201a8\"],[0.3333333333333333,\"#9c179e\"],[0.4444444444444444,\"#bd3786\"],[0.5555555555555556,\"#d8576b\"],[0.6666666666666666,\"#ed7953\"],[0.7777777777777778,\"#fb9f3a\"],[0.8888888888888888,\"#fdca26\"],[1.0,\"#f0f921\"]]}],\"choropleth\":[{\"type\":\"choropleth\",\"colorbar\":{\"outlinewidth\":0,\"ticks\":\"\"}}],\"histogram2d\":[{\"type\":\"histogram2d\",\"colorbar\":{\"outlinewidth\":0,\"ticks\":\"\"},\"colorscale\":[[0.0,\"#0d0887\"],[0.1111111111111111,\"#46039f\"],[0.2222222222222222,\"#7201a8\"],[0.3333333333333333,\"#9c179e\"],[0.4444444444444444,\"#bd3786\"],[0.5555555555555556,\"#d8576b\"],[0.6666666666666666,\"#ed7953\"],[0.7777777777777778,\"#fb9f3a\"],[0.8888888888888888,\"#fdca26\"],[1.0,\"#f0f921\"]]}],\"heatmap\":[{\"type\":\"heatmap\",\"colorbar\":{\"outlinewidth\":0,\"ticks\":\"\"},\"colorscale\":[[0.0,\"#0d0887\"],[0.1111111111111111,\"#46039f\"],[0.2222222222222222,\"#7201a8\"],[0.3333333333333333,\"#9c179e\"],[0.4444444444444444,\"#bd3786\"],[0.5555555555555556,\"#d8576b\"],[0.6666666666666666,\"#ed7953\"],[0.7777777777777778,\"#fb9f3a\"],[0.8888888888888888,\"#fdca26\"],[1.0,\"#f0f921\"]]}],\"heatmapgl\":[{\"type\":\"heatmapgl\",\"colorbar\":{\"outlinewidth\":0,\"ticks\":\"\"},\"colorscale\":[[0.0,\"#0d0887\"],[0.1111111111111111,\"#46039f\"],[0.2222222222222222,\"#7201a8\"],[0.3333333333333333,\"#9c179e\"],[0.4444444444444444,\"#bd3786\"],[0.5555555555555556,\"#d8576b\"],[0.6666666666666666,\"#ed7953\"],[0.7777777777777778,\"#fb9f3a\"],[0.8888888888888888,\"#fdca26\"],[1.0,\"#f0f921\"]]}],\"contourcarpet\":[{\"type\":\"contourcarpet\",\"colorbar\":{\"outlinewidth\":0,\"ticks\":\"\"}}],\"contour\":[{\"type\":\"contour\",\"colorbar\":{\"outlinewidth\":0,\"ticks\":\"\"},\"colorscale\":[[0.0,\"#0d0887\"],[0.1111111111111111,\"#46039f\"],[0.2222222222222222,\"#7201a8\"],[0.3333333333333333,\"#9c179e\"],[0.4444444444444444,\"#bd3786\"],[0.5555555555555556,\"#d8576b\"],[0.6666666666666666,\"#ed7953\"],[0.7777777777777778,\"#fb9f3a\"],[0.8888888888888888,\"#fdca26\"],[1.0,\"#f0f921\"]]}],\"surface\":[{\"type\":\"surface\",\"colorbar\":{\"outlinewidth\":0,\"ticks\":\"\"},\"colorscale\":[[0.0,\"#0d0887\"],[0.1111111111111111,\"#46039f\"],[0.2222222222222222,\"#7201a8\"],[0.3333333333333333,\"#9c179e\"],[0.4444444444444444,\"#bd3786\"],[0.5555555555555556,\"#d8576b\"],[0.6666666666666666,\"#ed7953\"],[0.7777777777777778,\"#fb9f3a\"],[0.8888888888888888,\"#fdca26\"],[1.0,\"#f0f921\"]]}],\"mesh3d\":[{\"type\":\"mesh3d\",\"colorbar\":{\"outlinewidth\":0,\"ticks\":\"\"}}],\"scatter\":[{\"fillpattern\":{\"fillmode\":\"overlay\",\"size\":10,\"solidity\":0.2},\"type\":\"scatter\"}],\"parcoords\":[{\"type\":\"parcoords\",\"line\":{\"colorbar\":{\"outlinewidth\":0,\"ticks\":\"\"}}}],\"scatterpolargl\":[{\"type\":\"scatterpolargl\",\"marker\":{\"colorbar\":{\"outlinewidth\":0,\"ticks\":\"\"}}}],\"bar\":[{\"error_x\":{\"color\":\"#2a3f5f\"},\"error_y\":{\"color\":\"#2a3f5f\"},\"marker\":{\"line\":{\"color\":\"#E5ECF6\",\"width\":0.5},\"pattern\":{\"fillmode\":\"overlay\",\"size\":10,\"solidity\":0.2}},\"type\":\"bar\"}],\"scattergeo\":[{\"type\":\"scattergeo\",\"marker\":{\"colorbar\":{\"outlinewidth\":0,\"ticks\":\"\"}}}],\"scatterpolar\":[{\"type\":\"scatterpolar\",\"marker\":{\"colorbar\":{\"outlinewidth\":0,\"ticks\":\"\"}}}],\"histogram\":[{\"marker\":{\"pattern\":{\"fillmode\":\"overlay\",\"size\":10,\"solidity\":0.2}},\"type\":\"histogram\"}],\"scattergl\":[{\"type\":\"scattergl\",\"marker\":{\"colorbar\":{\"outlinewidth\":0,\"ticks\":\"\"}}}],\"scatter3d\":[{\"type\":\"scatter3d\",\"line\":{\"colorbar\":{\"outlinewidth\":0,\"ticks\":\"\"}},\"marker\":{\"colorbar\":{\"outlinewidth\":0,\"ticks\":\"\"}}}],\"scattermapbox\":[{\"type\":\"scattermapbox\",\"marker\":{\"colorbar\":{\"outlinewidth\":0,\"ticks\":\"\"}}}],\"scatterternary\":[{\"type\":\"scatterternary\",\"marker\":{\"colorbar\":{\"outlinewidth\":0,\"ticks\":\"\"}}}],\"scattercarpet\":[{\"type\":\"scattercarpet\",\"marker\":{\"colorbar\":{\"outlinewidth\":0,\"ticks\":\"\"}}}],\"carpet\":[{\"aaxis\":{\"endlinecolor\":\"#2a3f5f\",\"gridcolor\":\"white\",\"linecolor\":\"white\",\"minorgridcolor\":\"white\",\"startlinecolor\":\"#2a3f5f\"},\"baxis\":{\"endlinecolor\":\"#2a3f5f\",\"gridcolor\":\"white\",\"linecolor\":\"white\",\"minorgridcolor\":\"white\",\"startlinecolor\":\"#2a3f5f\"},\"type\":\"carpet\"}],\"table\":[{\"cells\":{\"fill\":{\"color\":\"#EBF0F8\"},\"line\":{\"color\":\"white\"}},\"header\":{\"fill\":{\"color\":\"#C8D4E3\"},\"line\":{\"color\":\"white\"}},\"type\":\"table\"}],\"barpolar\":[{\"marker\":{\"line\":{\"color\":\"#E5ECF6\",\"width\":0.5},\"pattern\":{\"fillmode\":\"overlay\",\"size\":10,\"solidity\":0.2}},\"type\":\"barpolar\"}],\"pie\":[{\"automargin\":true,\"type\":\"pie\"}]},\"layout\":{\"autotypenumbers\":\"strict\",\"colorway\":[\"#636efa\",\"#EF553B\",\"#00cc96\",\"#ab63fa\",\"#FFA15A\",\"#19d3f3\",\"#FF6692\",\"#B6E880\",\"#FF97FF\",\"#FECB52\"],\"font\":{\"color\":\"#2a3f5f\"},\"hovermode\":\"closest\",\"hoverlabel\":{\"align\":\"left\"},\"paper_bgcolor\":\"white\",\"plot_bgcolor\":\"#E5ECF6\",\"polar\":{\"bgcolor\":\"#E5ECF6\",\"angularaxis\":{\"gridcolor\":\"white\",\"linecolor\":\"white\",\"ticks\":\"\"},\"radialaxis\":{\"gridcolor\":\"white\",\"linecolor\":\"white\",\"ticks\":\"\"}},\"ternary\":{\"bgcolor\":\"#E5ECF6\",\"aaxis\":{\"gridcolor\":\"white\",\"linecolor\":\"white\",\"ticks\":\"\"},\"baxis\":{\"gridcolor\":\"white\",\"linecolor\":\"white\",\"ticks\":\"\"},\"caxis\":{\"gridcolor\":\"white\",\"linecolor\":\"white\",\"ticks\":\"\"}},\"coloraxis\":{\"colorbar\":{\"outlinewidth\":0,\"ticks\":\"\"}},\"colorscale\":{\"sequential\":[[0.0,\"#0d0887\"],[0.1111111111111111,\"#46039f\"],[0.2222222222222222,\"#7201a8\"],[0.3333333333333333,\"#9c179e\"],[0.4444444444444444,\"#bd3786\"],[0.5555555555555556,\"#d8576b\"],[0.6666666666666666,\"#ed7953\"],[0.7777777777777778,\"#fb9f3a\"],[0.8888888888888888,\"#fdca26\"],[1.0,\"#f0f921\"]],\"sequentialminus\":[[0.0,\"#0d0887\"],[0.1111111111111111,\"#46039f\"],[0.2222222222222222,\"#7201a8\"],[0.3333333333333333,\"#9c179e\"],[0.4444444444444444,\"#bd3786\"],[0.5555555555555556,\"#d8576b\"],[0.6666666666666666,\"#ed7953\"],[0.7777777777777778,\"#fb9f3a\"],[0.8888888888888888,\"#fdca26\"],[1.0,\"#f0f921\"]],\"diverging\":[[0,\"#8e0152\"],[0.1,\"#c51b7d\"],[0.2,\"#de77ae\"],[0.3,\"#f1b6da\"],[0.4,\"#fde0ef\"],[0.5,\"#f7f7f7\"],[0.6,\"#e6f5d0\"],[0.7,\"#b8e186\"],[0.8,\"#7fbc41\"],[0.9,\"#4d9221\"],[1,\"#276419\"]]},\"xaxis\":{\"gridcolor\":\"white\",\"linecolor\":\"white\",\"ticks\":\"\",\"title\":{\"standoff\":15},\"zerolinecolor\":\"white\",\"automargin\":true,\"zerolinewidth\":2},\"yaxis\":{\"gridcolor\":\"white\",\"linecolor\":\"white\",\"ticks\":\"\",\"title\":{\"standoff\":15},\"zerolinecolor\":\"white\",\"automargin\":true,\"zerolinewidth\":2},\"scene\":{\"xaxis\":{\"backgroundcolor\":\"#E5ECF6\",\"gridcolor\":\"white\",\"linecolor\":\"white\",\"showbackground\":true,\"ticks\":\"\",\"zerolinecolor\":\"white\",\"gridwidth\":2},\"yaxis\":{\"backgroundcolor\":\"#E5ECF6\",\"gridcolor\":\"white\",\"linecolor\":\"white\",\"showbackground\":true,\"ticks\":\"\",\"zerolinecolor\":\"white\",\"gridwidth\":2},\"zaxis\":{\"backgroundcolor\":\"#E5ECF6\",\"gridcolor\":\"white\",\"linecolor\":\"white\",\"showbackground\":true,\"ticks\":\"\",\"zerolinecolor\":\"white\",\"gridwidth\":2}},\"shapedefaults\":{\"line\":{\"color\":\"#2a3f5f\"}},\"annotationdefaults\":{\"arrowcolor\":\"#2a3f5f\",\"arrowhead\":0,\"arrowwidth\":1},\"geo\":{\"bgcolor\":\"white\",\"landcolor\":\"#E5ECF6\",\"subunitcolor\":\"white\",\"showland\":true,\"showlakes\":true,\"lakecolor\":\"white\"},\"title\":{\"x\":0.05},\"mapbox\":{\"style\":\"light\"}}},\"xaxis\":{\"tick0\":1,\"dtick\":1,\"tickmode\":\"linear\",\"title\":{\"text\":\"Number of clusters\"}},\"title\":{\"text\":\"Finding optimal number of clusters using elbow method\"},\"yaxis\":{\"title\":{\"text\":\"Sum of squared distances\"}}},                        {\"responsive\": true}                    ).then(function(){\n",
              "                            \n",
              "var gd = document.getElementById('cef80fd0-a51c-4715-9594-27de6075f3e7');\n",
              "var x = new MutationObserver(function (mutations, observer) {{\n",
              "        var display = window.getComputedStyle(gd).display;\n",
              "        if (!display || display === 'none') {{\n",
              "            console.log([gd, 'removed!']);\n",
              "            Plotly.purge(gd);\n",
              "            observer.disconnect();\n",
              "        }}\n",
              "}});\n",
              "\n",
              "// Listen for the removal of the full notebook cells\n",
              "var notebookContainer = gd.closest('#notebook-container');\n",
              "if (notebookContainer) {{\n",
              "    x.observe(notebookContainer, {childList: true});\n",
              "}}\n",
              "\n",
              "// Listen for the clearing of the current output cell\n",
              "var outputEl = gd.closest('.output');\n",
              "if (outputEl) {{\n",
              "    x.observe(outputEl, {childList: true});\n",
              "}}\n",
              "\n",
              "                        })                };                            </script>        </div>\n",
              "</body>\n",
              "</html>"
            ]
          },
          "metadata": {}
        }
      ]
    },
    {
      "cell_type": "markdown",
      "source": [
        "**Optimal value = 5**\n",
        "\n",
        "The above visualization is used to determine the optimal value form where the curve of the line bends, like an elbow. This bend is based on the sum of square distances of each point from its center (centroid). If we add more than the optimal value then the model will decrease in performance and efficiency, as this where the the reduction in distance begins to slow down."
      ],
      "metadata": {
        "id": "Dt-0KO_q4SEO"
      }
    },
    {
      "cell_type": "code",
      "source": [
        "# Re-Train K means model with k=5\n",
        "kmeans_model_new = KMeans(n_clusters = 5,init='k-means++',max_iter=400,random_state=42)\n",
        "\n",
        "kmeans_model_new.fit_predict(df[['Request to Status Duration (Days)','Qty Requested',\n",
        "'Grant Pricing']])"
      ],
      "metadata": {
        "colab": {
          "base_uri": "https://localhost:8080/"
        },
        "id": "Zw14bZEs4DDB",
        "outputId": "11da38e8-be72-4959-c021-42a54900cf3e"
      },
      "execution_count": 11,
      "outputs": [
        {
          "output_type": "stream",
          "name": "stderr",
          "text": [
            "/usr/local/lib/python3.10/dist-packages/sklearn/cluster/_kmeans.py:870: FutureWarning:\n",
            "\n",
            "The default value of `n_init` will change from 10 to 'auto' in 1.4. Set the value of `n_init` explicitly to suppress the warning\n",
            "\n"
          ]
        },
        {
          "output_type": "execute_result",
          "data": {
            "text/plain": [
              "array([0, 0, 0, ..., 0, 0, 4], dtype=int32)"
            ]
          },
          "metadata": {},
          "execution_count": 11
        }
      ]
    },
    {
      "cell_type": "code",
      "source": [
        "# Create data arrays\n",
        "cluster_centers = kmeans_model_new.cluster_centers_\n",
        "data = np.expm1(cluster_centers)\n",
        "points = np.append(data, cluster_centers, axis=1)\n",
        "points"
      ],
      "metadata": {
        "colab": {
          "base_uri": "https://localhost:8080/"
        },
        "id": "hA9w_lXt4pAq",
        "outputId": "4a32e050-a9ea-4ca3-d58b-41bf22d86679"
      },
      "execution_count": 12,
      "outputs": [
        {
          "output_type": "stream",
          "name": "stderr",
          "text": [
            "<ipython-input-12-ffdb0ff0bada>:3: RuntimeWarning:\n",
            "\n",
            "overflow encountered in expm1\n",
            "\n"
          ]
        },
        {
          "output_type": "execute_result",
          "data": {
            "text/plain": [
              "array([[2.74715975e+198,             inf,             inf,\n",
              "        4.56922416e+002, 1.96160715e+004, 7.93710120e+004],\n",
              "       [            inf,             inf,             inf,\n",
              "        8.78333333e+002, 8.40000000e+002, 3.30462466e+007],\n",
              "       [            inf, 5.22632645e+193,             inf,\n",
              "        8.26052632e+002, 4.46052632e+002, 1.26086850e+007],\n",
              "       [3.39914613e+223,             inf,             inf,\n",
              "        5.14700000e+002, 1.37685045e+007, 1.77764403e+005],\n",
              "       [4.77346614e+252, 7.33453646e+142,             inf,\n",
              "        5.81814516e+002, 3.28959677e+002, 3.29670577e+006]])"
            ]
          },
          "metadata": {},
          "execution_count": 12
        }
      ]
    },
    {
      "cell_type": "code",
      "source": [
        "# Add \"clusters\" to customers data\n",
        "points = np.append(points, [[0], [1], [2], [3], [4]], axis=1)\n",
        "df[\"clusters\"] = kmeans_model_new.labels_"
      ],
      "metadata": {
        "id": "xu7pmpEN4ykN"
      },
      "execution_count": 13,
      "outputs": []
    },
    {
      "cell_type": "code",
      "source": [
        "df[['clusters']].value_counts()"
      ],
      "metadata": {
        "colab": {
          "base_uri": "https://localhost:8080/"
        },
        "id": "UGMfQ5gS42Ej",
        "outputId": "681a1d66-129c-4529-bd15-99776e2be06e"
      },
      "execution_count": 14,
      "outputs": [
        {
          "output_type": "execute_result",
          "data": {
            "text/plain": [
              "clusters\n",
              "0           3957\n",
              "4            124\n",
              "2             19\n",
              "3             10\n",
              "1              3\n",
              "dtype: int64"
            ]
          },
          "metadata": {},
          "execution_count": 14
        }
      ]
    },
    {
      "cell_type": "code",
      "source": [
        "# visualize clusters\n",
        "figure = px.scatter_3d(df,\n",
        "                    color='clusters',\n",
        "                    x='Request to Status Duration (Days)',\n",
        "                    y='Qty Requested',\n",
        "                    z='Grant Pricing',\n",
        "                    category_orders = {\"clusters\": [\"0\", \"1\", \"2\", \"3\", \"4\"]}\n",
        "                    )\n",
        "figure.update_layout()\n",
        "figure.show()"
      ],
      "metadata": {
        "colab": {
          "base_uri": "https://localhost:8080/",
          "height": 542
        },
        "id": "OOQq-gq947xh",
        "outputId": "8ccb278b-fe32-4559-cf8a-d92d94e143d4"
      },
      "execution_count": 16,
      "outputs": [
        {
          "output_type": "display_data",
          "data": {
            "text/html": [
              "<html>\n",
              "<head><meta charset=\"utf-8\" /></head>\n",
              "<body>\n",
              "    <div>            <script src=\"https://cdnjs.cloudflare.com/ajax/libs/mathjax/2.7.5/MathJax.js?config=TeX-AMS-MML_SVG\"></script><script type=\"text/javascript\">if (window.MathJax && window.MathJax.Hub && window.MathJax.Hub.Config) {window.MathJax.Hub.Config({SVG: {font: \"STIX-Web\"}});}</script>                <script type=\"text/javascript\">window.PlotlyConfig = {MathJaxConfig: 'local'};</script>\n",
              "        <script charset=\"utf-8\" src=\"https://cdn.plot.ly/plotly-2.24.1.min.js\"></script>                <div id=\"86b4a59c-5644-4901-a61d-3d22d119ca09\" class=\"plotly-graph-div\" style=\"height:525px; width:100%;\"></div>            <script type=\"text/javascript\">                                    window.PLOTLYENV=window.PLOTLYENV || {};                                    if (document.getElementById(\"86b4a59c-5644-4901-a61d-3d22d119ca09\")) {                    Plotly.newPlot(                        \"86b4a59c-5644-4901-a61d-3d22d119ca09\",                        [{\"hovertemplate\":\"Request to Status Duration (Days)=%{x}\\u003cbr\\u003eQty Requested=%{y}\\u003cbr\\u003eGrant Pricing=%{z}\\u003cbr\\u003eclusters=%{marker.color}\\u003cextra\\u003e\\u003c\\u002fextra\\u003e\",\"legendgroup\":\"\",\"marker\":{\"color\":[0,0,0,0,0,0,0,0,0,0,0,0,0,0,0,0,0,0,0,0,0,0,0,0,0,0,0,0,0,0,0,0,0,0,0,0,0,0,0,0,0,0,0,0,0,0,0,0,0,0,0,0,0,0,0,0,0,0,0,0,0,0,0,0,0,0,0,0,0,0,0,0,0,0,0,0,0,0,0,0,0,0,0,0,0,0,0,0,0,0,0,0,0,0,0,0,0,0,0,0,0,0,0,0,0,0,0,4,0,0,0,0,0,0,0,0,0,0,0,0,0,0,0,0,0,0,0,0,0,0,0,0,0,0,0,0,0,0,0,0,0,0,0,0,0,0,0,0,0,0,0,0,0,0,0,0,0,0,0,0,0,0,0,0,0,0,0,0,0,0,0,0,0,0,0,0,0,0,0,0,0,0,0,0,0,0,0,0,0,0,0,0,0,0,3,0,0,0,0,0,0,0,0,0,0,0,0,0,0,0,0,0,0,0,0,0,0,0,0,0,0,0,0,0,0,0,0,0,0,0,0,0,0,0,0,0,0,0,0,0,0,0,0,0,0,0,0,0,0,0,0,0,4,0,0,0,0,0,0,0,0,0,0,0,0,0,0,0,0,0,0,0,0,4,0,0,0,0,0,0,0,0,0,0,0,0,0,0,0,0,0,0,0,0,0,0,0,0,0,0,0,0,0,0,0,4,0,0,0,0,0,0,0,0,0,0,0,0,0,0,0,0,0,0,0,0,0,0,0,0,0,0,0,0,0,0,0,0,0,0,0,0,0,4,2,0,0,0,0,0,4,0,0,0,0,0,0,0,0,0,4,0,0,0,0,0,0,0,0,0,0,0,0,0,0,0,0,0,0,0,0,0,0,0,0,0,0,0,0,0,0,0,0,0,0,0,0,0,0,0,0,0,0,0,0,0,0,0,0,0,0,0,0,0,0,0,0,0,0,0,0,0,0,0,0,0,0,0,0,0,0,0,0,4,2,2,0,0,0,0,0,0,0,0,0,0,0,0,0,0,0,0,0,4,4,0,0,0,0,0,0,0,0,0,0,0,0,0,0,0,0,0,0,0,0,4,4,0,0,0,0,0,0,0,0,0,0,0,0,0,0,0,0,0,0,0,0,0,0,0,0,0,0,0,0,0,0,0,0,0,0,0,0,0,0,4,0,0,0,0,0,0,0,0,0,0,0,0,0,0,0,0,0,0,0,0,0,0,0,0,0,0,0,0,0,0,0,0,0,0,0,0,0,0,0,0,0,0,0,0,0,0,0,0,0,0,3,0,1,0,0,4,0,0,0,0,0,0,0,0,0,0,0,0,0,0,0,0,0,0,0,0,0,0,0,0,0,0,0,0,0,0,0,0,0,0,0,0,0,0,0,0,0,0,0,0,0,0,0,0,0,0,0,0,0,0,0,0,0,0,0,0,0,0,0,0,0,0,0,0,0,0,0,0,0,0,0,0,0,0,0,0,0,0,0,0,0,0,0,0,0,0,0,0,0,0,0,0,0,0,0,0,0,0,0,0,0,0,0,0,0,0,0,0,0,0,0,0,0,0,0,0,0,0,0,0,0,0,0,0,0,0,0,0,0,0,0,0,0,0,0,0,0,0,0,0,0,0,0,0,0,0,0,0,0,0,0,0,0,0,0,0,0,0,0,0,0,0,0,0,0,0,0,0,0,0,0,0,0,0,0,0,0,0,0,0,0,0,0,0,0,0,0,0,0,0,0,0,0,0,0,0,0,0,0,0,0,0,0,0,0,0,0,0,0,0,0,0,0,0,0,0,0,0,0,0,0,0,0,0,0,0,0,0,0,0,0,0,0,0,0,0,0,0,0,0,0,0,0,0,0,4,0,0,0,0,0,0,0,0,0,0,0,0,0,0,0,0,0,0,0,0,0,0,0,0,0,0,0,0,0,0,0,0,0,0,0,0,0,0,0,0,0,0,0,0,0,0,0,0,0,0,0,0,0,0,0,0,0,0,0,0,0,0,0,0,0,0,0,0,0,0,0,0,0,0,0,0,0,0,0,0,0,0,0,0,0,0,0,0,0,0,0,0,0,0,0,0,0,0,0,0,0,0,0,0,0,4,0,0,0,0,0,0,0,0,0,0,0,0,0,0,0,0,0,2,4,0,0,0,0,0,0,0,0,0,0,0,0,0,0,0,0,4,0,0,0,0,0,0,0,0,0,0,4,0,0,0,0,0,0,0,0,0,0,0,0,0,0,0,0,0,0,0,0,0,0,0,0,0,0,0,0,0,0,0,0,0,0,0,0,0,0,0,0,0,0,0,0,0,0,0,4,0,0,0,0,0,0,0,0,0,0,0,0,0,0,0,0,0,0,0,0,0,0,0,0,0,0,0,0,0,0,0,0,0,0,0,0,0,0,0,0,0,0,0,0,0,0,0,0,0,0,0,0,0,0,0,0,0,0,0,0,0,0,0,3,0,0,0,0,0,0,0,0,0,0,0,0,0,0,0,0,0,0,0,0,0,0,0,0,4,4,0,0,0,0,0,0,0,0,0,0,0,0,0,0,0,0,0,0,0,0,4,0,0,0,0,0,0,0,0,0,0,0,0,0,0,0,0,0,0,0,0,0,0,0,0,0,0,0,0,0,0,0,0,0,0,0,0,0,0,4,0,0,0,0,0,0,0,0,0,0,0,0,0,0,0,0,0,0,0,0,4,0,0,0,0,0,0,0,4,0,0,0,0,0,0,0,0,0,0,0,0,4,0,0,0,0,0,0,0,4,0,0,0,0,0,0,0,0,0,0,0,0,0,0,0,0,0,0,0,0,0,0,0,0,0,0,0,0,0,0,0,0,0,0,0,0,0,0,0,0,0,0,0,0,0,0,0,0,0,0,0,0,0,0,0,0,0,0,0,0,0,0,0,0,0,0,0,0,4,0,0,0,3,0,0,0,0,0,0,0,0,0,0,0,0,0,0,0,0,0,0,0,0,0,0,0,0,0,0,0,0,3,0,0,0,0,0,0,0,0,0,4,0,0,0,0,0,0,0,0,0,0,0,0,0,0,0,0,0,0,0,0,0,0,0,0,0,0,0,0,0,0,0,0,0,0,0,0,0,0,0,0,0,0,0,0,0,0,0,0,0,0,0,0,0,0,0,0,0,0,0,0,0,0,0,0,0,0,0,0,0,0,0,0,0,0,0,0,0,0,0,0,0,0,0,0,0,0,0,0,0,0,0,0,0,0,0,0,0,0,0,0,0,0,0,0,0,0,0,0,0,0,0,0,0,0,0,0,0,0,0,0,0,0,0,0,0,0,4,0,4,0,0,0,0,4,4,4,0,0,0,0,0,0,0,0,0,0,0,0,0,0,0,0,0,0,4,0,0,0,0,0,0,0,0,0,0,0,0,0,0,0,0,0,0,0,0,0,0,0,0,0,0,0,0,0,0,0,0,0,0,0,0,0,0,0,0,4,0,0,0,0,4,0,0,0,0,0,0,4,0,0,0,0,0,0,0,0,0,0,0,0,0,0,0,0,0,0,0,0,0,0,0,0,0,0,0,0,0,0,0,0,0,0,0,0,0,0,0,0,0,0,0,0,0,0,0,0,0,0,0,0,0,0,0,0,0,0,0,0,0,0,0,0,0,0,0,0,0,0,0,0,0,0,0,0,4,0,0,0,0,0,0,0,0,0,0,0,0,0,0,0,0,0,0,0,0,4,0,0,0,0,0,0,0,0,0,0,0,0,0,0,0,0,0,0,0,0,0,0,0,0,0,0,0,0,0,0,0,0,0,0,0,0,0,0,0,0,0,0,0,0,0,0,0,0,0,0,0,0,4,0,0,0,0,0,0,0,0,0,0,0,4,0,0,0,0,0,4,4,0,4,0,0,0,0,0,0,0,0,0,0,0,0,0,0,0,0,0,0,0,0,0,0,0,0,0,0,0,0,0,0,0,0,0,0,0,0,0,0,0,0,0,0,0,0,0,0,0,0,0,0,0,0,0,0,0,0,0,0,0,0,0,0,0,0,0,0,0,0,0,0,0,0,0,0,0,0,0,0,0,0,0,0,0,0,0,0,0,0,2,0,0,0,0,0,0,0,0,0,0,0,0,0,0,0,0,0,0,0,0,0,0,0,0,0,0,0,0,0,0,4,0,0,0,0,0,0,0,0,0,0,0,0,0,0,0,0,0,0,0,0,0,0,0,0,0,0,0,0,0,0,0,0,0,0,0,0,0,0,0,4,0,4,0,4,4,0,4,0,0,3,0,0,0,0,0,0,0,0,0,0,0,0,0,0,0,0,0,0,0,4,0,0,0,0,0,0,0,0,0,0,0,0,0,0,0,0,0,0,0,0,0,0,0,0,0,0,0,0,0,0,0,0,0,3,0,0,0,0,4,0,0,0,0,0,0,0,0,0,0,0,0,0,0,0,0,0,0,0,0,0,0,0,0,0,0,0,0,0,0,0,0,0,0,0,0,0,0,0,0,0,0,0,0,0,0,0,0,0,0,0,0,0,0,0,0,0,0,0,0,0,0,0,0,0,0,0,0,0,0,0,0,0,0,0,0,0,0,0,0,4,0,4,0,4,0,0,0,0,4,0,0,0,0,0,0,0,0,0,0,0,0,0,2,1,0,0,0,0,0,0,0,4,0,0,0,0,0,0,0,0,0,0,2,0,0,0,0,0,0,0,0,0,0,0,0,0,4,0,0,0,0,0,0,0,0,0,0,0,0,0,0,0,0,0,0,0,0,0,0,0,0,0,0,0,0,0,0,0,0,0,0,0,0,0,0,0,0,0,0,4,0,0,0,0,0,0,0,0,0,0,0,0,0,0,0,0,0,0,0,0,0,0,0,0,0,0,0,0,0,0,0,0,0,0,0,2,0,0,0,0,0,0,0,0,0,0,0,0,0,0,0,0,0,0,0,0,0,0,0,0,0,0,0,0,4,0,0,0,0,0,0,0,0,0,0,0,0,0,0,0,0,0,0,0,0,0,0,0,0,0,0,0,0,0,0,0,0,0,0,0,0,0,0,0,0,0,0,0,0,0,0,0,0,0,0,0,0,0,0,0,0,0,0,0,0,0,0,0,0,0,0,0,0,0,0,0,0,0,0,0,0,0,0,0,0,0,0,0,0,0,0,0,0,0,0,0,0,0,0,0,0,0,0,0,0,0,0,0,0,0,0,0,0,0,0,0,3,3,3,0,0,0,0,0,0,0,0,0,0,0,4,0,4,0,0,0,0,0,0,0,0,0,0,0,0,0,0,0,0,0,0,0,4,4,0,0,0,0,0,0,0,0,0,0,0,0,0,0,0,0,0,0,0,0,0,0,0,0,0,0,0,4,0,0,0,0,0,0,0,0,0,0,0,0,0,0,0,0,0,0,0,0,0,0,0,0,0,0,0,0,0,0,0,0,0,0,0,0,0,0,0,0,0,0,0,0,0,0,0,0,0,0,0,0,0,0,0,0,0,0,0,0,0,0,0,0,0,0,0,0,4,0,0,0,0,0,0,0,0,0,0,0,0,0,0,0,0,0,0,0,0,0,0,0,0,0,0,0,0,0,0,0,0,0,0,0,0,0,0,0,0,0,0,0,0,0,0,0,0,0,0,0,0,0,0,0,0,0,0,0,0,0,0,0,0,0,0,0,0,0,0,0,0,0,0,0,0,0,0,0,0,0,0,0,0,0,0,0,0,0,0,0,0,0,4,0,0,0,0,0,0,0,2,0,0,0,0,0,0,0,0,0,0,0,0,0,0,0,0,0,0,0,0,0,0,0,0,0,0,0,0,0,0,4,0,0,0,0,0,0,0,0,0,0,0,0,0,0,0,0,0,0,0,0,0,0,0,0,0,0,0,0,0,0,0,0,0,0,0,0,0,0,0,0,0,0,0,0,0,0,0,0,0,0,0,0,0,0,0,0,0,0,0,0,0,0,0,0,0,0,0,0,0,0,0,0,0,0,0,0,0,0,0,0,0,0,0,0,0,0,0,0,0,0,0,0,0,0,0,0,4,4,0,0,0,4,0,0,0,0,0,2,0,0,0,0,0,0,0,0,0,0,0,0,0,4,0,0,0,0,0,0,0,0,0,0,0,0,0,0,0,0,0,0,0,0,0,0,0,0,0,0,0,0,0,0,0,0,0,0,0,0,0,0,0,0,0,4,0,0,0,0,0,0,0,0,0,0,0,0,0,0,0,0,0,0,0,0,0,0,0,0,0,0,0,0,0,0,0,0,0,0,0,0,0,0,0,0,0,0,0,0,0,0,0,0,0,0,0,0,0,0,0,0,0,0,0,0,0,0,0,0,0,0,0,0,0,0,0,0,0,0,0,0,0,0,0,0,0,0,0,0,0,0,0,0,0,0,0,0,0,0,0,0,0,0,0,0,0,0,0,0,0,0,0,0,0,0,0,0,0,0,0,0,0,0,0,0,0,0,0,0,0,0,0,0,0,0,0,0,0,0,0,0,0,0,0,0,0,0,0,0,0,0,0,0,0,0,0,0,0,4,0,0,0,0,4,0,0,0,0,0,0,0,0,0,0,0,0,0,0,0,0,0,0,0,0,0,0,0,4,4,4,0,4,0,0,0,0,0,0,0,0,0,0,0,0,0,0,0,0,0,0,0,0,0,0,0,0,0,0,0,0,0,0,0,0,0,0,0,0,0,0,0,0,0,0,0,0,0,0,0,0,0,0,0,0,0,0,0,0,0,0,0,0,2,0,0,0,0,0,0,0,0,0,0,0,0,0,0,0,0,0,0,0,0,0,0,0,0,0,0,0,0,0,0,0,0,0,0,0,0,0,0,0,0,0,0,4,0,4,0,0,0,0,0,0,0,0,0,0,0,0,4,0,0,4,4,0,0,0,0,0,0,0,0,0,0,0,0,0,0,0,0,4,0,0,0,0,0,0,0,0,0,0,0,0,0,0,0,0,0,0,0,0,0,0,0,0,0,0,0,0,0,0,0,0,0,0,0,0,0,0,0,0,0,2,0,0,0,0,0,0,0,0,0,0,0,0,0,0,0,0,0,0,0,0,0,0,4,4,0,0,0,0,0,0,0,0,0,0,0,0,0,0,0,0,0,0,0,0,0,0,0,0,0,0,0,0,0,0,0,0,0,0,0,0,0,0,0,4,0,0,0,0,0,0,0,0,0,0,0,0,0,0,0,0,0,0,0,0,0,0,0,0,0,0,0,0,0,0,0,0,0,0,0,0,0,0,0,0,0,0,0,0,0,0,0,0,0,0,0,0,0,0,0,0,0,0,0,0,0,0,0,0,0,0,0,0,0,0,0,0,0,0,0,0,0,0,0,0,0,0,0,4,0,0,0,0,0,0,0,0,0,0,0,0,0,0,0,0,0,0,0,0,0,0,0,0,0,0,0,0,0,0,0,0,0,0,0,4,0,4,0,0,0,0,0,0,0,0,0,0,0,0,0,0,0,0,0,0,0,0,0,0,0,0,0,0,0,0,0,0,0,0,0,4,0,0,0,2,0,0,0,0,0,0,0,0,0,0,0,0,2,0,0,0,0,0,0,0,0,0,0,0,0,0,0,0,0,0,4,0,4,0,0,0,0,0,0,0,0,4,0,2,0,0,0,0,0,0,0,0,4,0,0,0,0,0,0,4,0,0,0,0,0,0,0,0,0,0,0,0,0,0,2,0,0,0,0,0,0,0,0,0,0,0,4,0,0,0,0,0,0,0,0,0,0,0,0,4,0,0,0,0,0,0,0,0,0,0,0,0,2,0,0,0,0,0,0,0,0,0,0,0,0,0,0,0,0,0,0,0,0,0,0,0,0,0,0,0,0,0,0,0,0,0,0,0,0,0,0,0,0,0,0,0,0,0,0,0,0,0,0,0,0,0,0,0,0,0,0,0,0,0,0,0,0,0,0,0,0,0,0,0,0,0,0,0,0,0,0,0,0,0,0,4,0,0,0,0,0,0,0,0,0,4,0,0,0,0,0,4,1,0,4,0,0,0,0,0,0,0,0,0,0,0,0,0,0,0,0,0,0,0,0,0,0,0,0,0,0,0,0,0,0,0,0,0,0,4,0,0,0,0,0,0,0,0,0,0,0,0,0,0,0,0,0,0,0,0,0,0,4,0,0,4,0,0,0,4,0,4,0,0,4,0,0,0,0,0,0,0,0,0,0,0,0,0,0,0,0,0,0,0,0,0,0,0,0,0,0,0,0,0,0,0,0,0,0,4,0,0,0,0,0,0,0,0,0,0,0,0,0,0,0,0,0,0,0,0,0,0,0,0,0,2,0,0,0,0,0,0,0,0,0,0,0,0,0,0,0,0,0,0,0,0,0,0,0,0,0,0,0,0,0,0,0,0,0,0,0,0,0,0,0,0,0,0,0,0,0,0,0,0,0,0,0,0,0,0,0,0,0,0,0,0,0,0,0,0,0,0,0,4,0,0,0,0,0,0,0,0,0,0,0,0,0,0,0,0,0,0,0,0,0,0,0,0,0,0,0,0,0,0,0,0,0,0,4,0,0,0,0,0,0,0,0,0,0,0,0,0,2,0,0,0,0,0,0,0,0,0,0,0,0,0,0,0,0,0,0,0,0,0,0,0,0,0,0,0,0,0,0,0,0,0,0,0,0,0,0,0,0,0,0,0,0,0,0,0,0,0,0,0,0,0,0,0,0,0,0,0,0,0,0,0,0,0,0,0,0,0,0,0,0,0,0,0,0,0,0,4,0,0,0,0,0,0,0,0,0,0,0,0,0,0,0,0,0,0,0,0,0,4,0,0,0,0,0,0,4,0,0,0,0,0,0,0,0,0,0,0,0,4,0,0,0,0,0,0,0,0,0,0,0,0,0,0,0,0,0,0,0,0,0,0,0,0,0,0,0,0,0,0,0,0,0,0,0,4,0,0,0,0,0,0,0,0,0,0,0,0,0,0,0,0,0,0,0,0,0,0,0,0,0,0,0,0,0,0,0,0,0,0,0,0,0,0,0,0,0,0,0,4,0,0,0,0,0,0,0,0,0,4,4,0,0,0,0,0,0,0,0,0,0,0,0,0,0,0,0,0,0,0,0,0,0,0,0,0,0,0,0,0,0,0,0,0,0,0,0,0,0,0,0,0,0,0,0,0,0,0,0,0,0,0,0,0,0,0,0,0,0,0,0,0,0,0,0,0,0,0,0,0,0,0,0,0,0,0,0,0,0,0,0,0,0,0,0,0,0,0,0,4,0,0,0,0,0,0,0,0,0,0,0,0,0,0,0,0,0,0,0,0,0,0,4],\"coloraxis\":\"coloraxis\",\"symbol\":\"circle\"},\"mode\":\"markers\",\"name\":\"\",\"scene\":\"scene\",\"showlegend\":false,\"x\":[3,3,3,3,3,3,3,3,3,3,3,33,33,33,33,33,33,33,33,33,33,33,33,33,33,33,33,33,33,33,33,33,33,33,33,59,59,70,81,81,89,89,89,89,89,89,89,89,89,89,89,89,89,89,89,89,89,89,89,89,89,89,89,89,89,89,89,89,89,89,89,89,135,135,135,135,153,153,153,153,153,153,153,153,153,153,153,153,153,153,153,153,153,153,153,153,153,153,153,153,153,153,153,153,166,172,188,188,189,189,189,189,189,200,200,200,200,200,200,200,200,200,200,200,200,200,200,200,203,203,203,206,219,219,219,219,219,219,219,219,219,219,219,219,219,219,219,219,219,219,219,219,219,219,219,219,219,219,219,219,219,219,227,227,227,227,227,227,227,227,227,227,227,227,227,227,227,227,227,227,227,227,227,227,227,227,227,227,227,227,227,227,227,227,227,243,243,243,243,243,251,251,251,251,251,251,252,266,272,272,272,272,272,272,272,272,272,272,272,272,272,272,272,272,272,272,272,272,272,272,272,272,272,272,272,272,272,272,272,272,272,272,272,272,272,272,272,272,272,272,272,272,272,284,290,290,290,290,290,290,290,290,290,290,290,290,298,298,298,298,298,298,298,298,298,307,312,312,312,312,312,312,312,312,312,312,312,312,312,312,312,312,312,312,312,312,312,312,312,312,312,312,312,312,313,44,332,12,12,12,12,12,353,353,353,353,353,353,353,353,353,353,353,353,353,353,353,353,353,353,353,353,353,12,12,353,353,12,12,2,5,5,5,5,5,373,45,45,45,45,45,413,413,420,420,420,439,439,439,79,79,84,84,84,84,84,84,84,84,84,84,84,84,84,84,84,84,84,84,84,84,84,84,84,84,84,84,84,84,84,84,84,84,84,84,84,84,84,84,84,84,84,84,87,87,87,87,87,87,87,87,87,87,87,87,87,87,87,87,87,87,87,87,87,87,87,87,87,87,103,103,103,103,103,103,103,476,476,476,476,476,476,476,476,476,476,476,476,476,476,476,122,122,132,132,509,509,509,509,509,158,158,525,526,526,528,528,528,528,528,528,528,528,530,530,530,532,174,174,180,180,187,187,187,187,187,187,187,187,187,187,187,187,187,187,187,187,187,187,187,187,187,187,187,187,187,187,187,187,187,187,187,187,198,198,206,214,220,220,220,220,220,220,220,220,220,220,220,220,220,220,220,220,220,220,220,220,220,220,220,220,221,221,221,221,221,221,229,229,229,229,229,235,600,602,607,251,251,251,251,251,251,251,251,251,251,251,255,255,256,635,635,272,637,637,637,637,637,637,637,637,637,637,637,637,637,637,637,637,637,637,637,637,637,637,637,637,637,637,637,637,637,637,637,637,637,637,637,637,637,637,637,637,637,637,637,637,637,637,637,637,637,637,637,637,637,637,637,637,637,637,637,637,637,637,637,637,637,637,637,637,637,637,637,637,637,637,637,637,637,637,637,637,637,637,637,637,637,637,637,637,637,637,637,637,637,637,637,637,637,637,637,637,637,637,637,637,637,637,637,637,637,637,637,637,637,637,637,637,637,637,637,637,272,637,272,272,272,637,638,638,638,638,638,638,638,638,638,638,638,638,638,638,638,638,638,638,638,638,273,273,273,638,638,638,638,638,638,273,273,273,638,638,638,638,273,273,273,273,273,273,273,273,273,273,273,273,661,661,661,661,661,661,661,661,661,661,661,661,661,661,661,661,661,661,661,661,661,661,661,661,661,661,661,661,661,661,661,661,661,661,661,661,661,661,661,661,661,661,661,661,661,661,661,661,661,661,661,661,661,661,661,661,661,661,661,661,661,661,661,661,661,661,661,661,661,661,661,661,661,661,661,661,661,661,661,661,661,661,303,303,303,303,303,303,303,303,303,303,303,303,303,303,303,303,303,303,303,303,303,303,303,303,303,303,303,303,303,303,303,303,303,303,321,323,326,326,326,326,326,326,326,326,326,326,326,326,326,326,326,326,326,326,326,326,326,326,326,326,326,326,326,326,326,326,326,326,326,326,326,326,326,326,326,326,326,326,333,335,346,346,346,346,346,346,346,346,346,346,346,346,346,712,352,352,353,367,370,374,374,374,374,374,374,374,374,374,374,374,374,374,377,377,380,381,381,381,384,384,384,389,389,389,27,36,36,36,36,36,36,36,36,36,65,444,87,453,453,453,453,89,454,96,464,107,850,850,850,850,850,850,850,485,486,493,493,493,493,493,493,493,493,493,493,493,493,493,493,493,493,493,493,493,493,493,493,493,493,493,128,493,493,493,493,493,493,130,495,499,136,136,142,142,509,514,157,157,157,157,157,157,157,157,157,157,157,157,157,166,166,166,166,166,166,166,166,166,166,166,166,166,166,166,166,166,166,166,166,166,166,166,173,173,173,174,547,547,547,547,547,547,547,547,547,547,547,547,547,547,547,547,547,547,547,547,547,547,183,183,183,183,183,193,562,197,215,215,215,215,215,215,215,215,215,215,215,215,215,215,215,215,219,220,220,587,224,224,224,224,224,224,224,224,594,594,594,594,235,235,235,235,235,235,970,976,250,638,638,638,638,638,638,638,638,638,638,1003,1003,1003,1003,1003,1003,1003,1003,1003,1003,1003,273,273,273,273,273,273,273,638,273,273,273,638,1003,273,273,638,273,273,273,273,273,1003,273,1003,1003,1003,1003,1003,1003,1003,1003,1003,1003,1003,639,639,1019,290,291,295,299,306,1042,319,689,333,700,337,337,703,704,712,351,745,1111,381,382,387,752,752,394,759,763,408,431,807,807,87,456,456,456,456,456,456,456,456,457,457,830,101,467,467,467,467,467,467,467,467,467,467,467,467,467,467,101,101,467,467,101,101,467,467,467,467,467,467,467,467,101,467,467,467,467,467,467,467,467,467,467,467,467,467,467,467,467,485,122,122,122,122,122,122,122,508,508,514,879,879,879,884,884,884,885,528,528,528,528,162,168,168,540,542,178,178,178,178,178,178,178,178,178,178,178,178,178,178,178,909,183,188,192,195,195,926,210,578,212,224,227,593,227,231,231,231,600,240,248,248,248,248,248,248,248,248,248,617,253,253,253,253,255,255,255,255,255,255,255,255,255,255,255,255,255,255,255,255,255,255,255,255,255,255,626,626,626,626,626,626,626,260,260,265,265,265,265,265,265,265,265,638,638,638,638,1003,1003,1368,1368,1368,1368,1368,1368,1368,1368,638,638,638,638,638,638,1003,1003,1003,1368,638,638,1003,1003,1003,638,638,638,638,638,272,638,638,638,272,638,638,638,1003,638,638,1003,638,638,638,275,275,275,304,1046,1046,316,316,316,1049,684,1049,1049,1049,322,695,30,346,1081,352,352,352,352,352,352,352,1083,357,357,357,363,363,363,363,363,363,363,363,363,363,363,363,366,737,1105,379,746,746,384,31,40,44,415,416,416,1154,794,77,77,77,442,442,442,442,77,78,809,1174,1174,809,813,813,813,813,1178,813,813,813,450,450,450,450,450,450,820,820,89,89,89,89,821,456,92,92,92,462,462,1565,842,842,842,842,842,113,114,118,850,850,850,1215,1215,1215,1215,850,1229,1229,1229,135,135,135,500,500,500,135,135,135,135,135,135,135,500,500,500,135,135,500,500,500,500,135,500,135,135,500,135,135,500,135,500,135,135,135,500,135,135,135,506,506,506,506,506,506,506,506,506,506,506,506,506,141,146,146,146,146,146,1608,512,513,513,513,513,513,513,513,513,513,513,513,513,513,513,513,513,513,513,513,517,159,529,529,529,529,529,529,897,531,531,531,531,531,531,531,531,531,531,531,531,531,531,531,531,531,531,531,531,531,175,175,175,175,186,181,182,182,194,566,203,203,203,203,203,203,203,203,203,203,203,572,572,208,208,208,208,208,208,208,208,574,574,574,574,218,222,226,592,592,596,962,236,236,610,251,253,253,253,253,253,253,253,253,253,253,253,253,253,253,253,253,253,637,1003,1003,1003,1003,1003,1003,1003,1003,1003,1733,1733,1733,1733,1733,1733,1733,1733,1733,272,272,272,272,637,637,637,637,637,637,637,637,637,637,637,637,637,637,1003,1003,1003,272,272,637,637,637,637,637,1003,1003,637,637,272,1003,637,1003,637,637,637,1003,272,637,272,1003,1003,272,637,637,272,637,1003,1003,1003,1003,1003,1733,1733,1733,1003,1733,1368,1003,1003,92,1369,1734,1734,1735,1005,641,1372,641,87,87,1013,79,651,1017,652,287,287,1384,288,657,658,1027,1395,1395,1395,306,310,1041,310,310,675,675,675,675,52,50,680,685,322,687,323,323,323,323,323,323,323,323,323,323,323,323,42,42,323,323,42,324,1057,328,1064,1429,1429,334,1430,1439,344,1075,710,1444,350,716,1082,1447,351,352,352,352,355,355,355,355,355,355,355,355,355,1088,362,734,369,370,370,370,370,370,370,370,370,370,370,370,370,370,370,370,370,370,1832,737,372,372,372,372,372,377,377,377,742,377,377,377,743,744,15,381,19,21,386,386,387,387,387,387,387,387,387,387,387,387,387,1486,757,392,395,33,33,1495,1495,1495,1495,1495,1495,1495,1495,1495,405,407,48,779,50,415,415,415,415,415,415,415,415,415,415,415,415,415,50,1146,420,56,56,56,56,56,56,56,56,56,56,56,56,56,56,1518,61,61,61,62,427,427,1159,1525,70,440,1902,1902,812,1178,814,450,1184,89,455,455,457,822,460,462,462,97,97,1569,109,109,474,474,475,841,841,476,477,478,481,481,1213,482,1214,484,1215,1216,488,488,491,130,130,130,130,130,497,497,1243,512,877,154,165,165,165,165,165,165,896,898,902,902,902,902,902,906,543,179,179,179,179,179,179,179,179,179,179,179,179,179,179,179,179,179,179,179,179,179,179,179,179,179,179,547,919,189,189,555,555,555,198,1297,2028,569,570,572,572,941,214,214,214,214,214,1310,2041,581,217,583,583,586,954,955,590,956,593,1690,961,231,231,231,596,596,232,232,232,232,232,962,965,237,237,968,604,975,611,611,250,251,251,251,617,617,617,983,256,256,256,990,995,631,632,632,633,633,634,1000,1001,1368,1368,1002,1002,637,1002,1004,280,648,656,656,656,656,656,656,656,656,656,656,294,294,294,294,294,294,294,294,294,294,294,294,294,294,294,294,294,294,294,294,294,294,294,294,294,294,294,294,294,294,294,294,294,294,294,294,294,294,294,294,294,294,294,294,294,294,294,294,294,294,294,294,294,294,294,294,294,294,294,294,294,294,294,294,294,294,294,294,294,294,294,294,294,294,294,294,294,294,294,294,294,294,294,294,294,294,294,294,294,294,294,294,294,294,294,294,294,294,294,294,294,299,299,299,299,1037,313,313,314,315,316,316,684,324,326,328,331,1439,343,1439,351,351,351,351,351,351,351,351,351,364,364,364,364,364,383,383,26,762,402,402,406,414,414,414,414,414,414,414,414,414,414,414,414,414,414,414,414,414,414,782,785,789,60,425,60,60,60,60,60,60,60,60,60,60,60,60,60,60,60,60,60,60,60,60,60,792,63,438,438,439,439,439,439,439,439,439,441,442,442,442,442,442,442,454,454,454,454,454,454,454,454,454,454,454,454,454,454,454,454,454,454,454,455,469,104,104,1205,1205,1205,1205,1205,1205,1205,482,487,487,487,487,487,487,487,487,487,487,487,487,487,487,487,487,853,488,488,488,488,488,488,488,488,488,488,488,488,488,495,495,495,497,497,497,497,497,497,497,497,497,497,497,497,497,497,497,497,497,497,497,497,136,503,508,508,508,508,508,508,508,508,508,508,508,508,508,508,508,508,508,508,508,508,508,508,508,508,508,508,875,875,875,875,875,511,877,518,520,522,1254,524,1620,1620,530,532,532,532,897,904,178,544,544,544,546,186,186,186,186,186,186,186,186,186,186,186,186,186,919,919,923,558,930,930,931,931,931,567,567,567,567,567,567,567,567,567,567,567,567,567,567,567,567,567,567,203,203,203,203,203,203,203,203,203,203,203,203,203,203,203,203,203,203,203,203,203,203,203,203,203,203,203,203,203,203,203,203,203,203,203,203,203,203,203,203,216,581,581,1677,581,581,581,581,1311,581,1311,1311,1311,1677,581,581,1311,1311,1311,1311,581,1311,1677,581,581,581,1311,1311,1311,1677,1311,581,1311,1677,1311,581,1311,1677,581,1312,217,587,587,587,227,961,236,601,607,607,607,607,607,624,628,1724,1724,1724,1724,1724,1724,1724,1359,1359,1359,1359,1359,265,635,635,635,635,635,635,635,636,636,636,636,636,636,636,636,636,636,636,636,636,636,636,636,636,636,638,638,638,638,638,638,638,2465,2465,2465,2465,2465,2465,2465,2465,2465,1004,2465,2465,2465,2465,1735,641,1007,277,642,284,658,658,661,661,1758,1758,301,301,301,301,301,301,301,301,301,301,301,301,301,301,301,301,301,301,301,301,301,301,301,301,301,301,301,301,301,301,301,301,301,301,301,301,301,301,301,301,301,301,301,301,301,301,301,301,301,301,301,301,301,301,301,301,301,301,301,301,301,301,301,301,301,301,301,301,301,301,301,301,301,301,668,1401,679,679,679,680,681,684,1051,686,325,325,325,325,325,325,325,325,325,325,325,325,325,325,325,325,325,325,325,325,325,325,325,325,325,325,325,325,325,325,325,325,325,325,325,325,325,325,325,325,325,325,325,690,690,690,690,690,699,336,1066,701,702,702,341,712,715,719,720,374,375,375,375,375,375,375,375,375,756,756,756,756,392,392,392,392,392,392,392,392,392,392,392,757,1857,761,397,762,762,1493,404,769,774,409,409,1140,775,410,776,776,776,411,776,2602,776,1506,778,779,52,52,52,52,52,52,53,53,53,53,53,53,53,53,53,53,53,53,53,53,53,53,53,53,53,53,53,53,53,53,53,53,53,53,53,425,60,1157,793,799,436,1167,455,826,462,462,462,462,462,830,471,839,481,847,482,491,858,494,859,494,494,495,495,495,495,495,867,502,867,137,224,224,224,224,224,224,510,510,510,887,524,158,169,1267,537,171,172,177,177,543,543,543,543,543,910,911,183,549,2379,2379,2379,2379,921,1652,923,923,923,923,923,924,924,193,560,925,560,929,200,200,2403,1308,1309,1309,1309,1309,1310,220,952,591,1686,592,592,1687,228,232,963,1695,967,967,241,241,972,608,242,247,978,615,615,615,615,615,987,622,622,623,623,623,628,628,628,628,263,1000,270,270,270,270,636,636,271,94,638,638,638,638,1003,1368,1003,1003,638,638,1369,90,1385,1385,655,1385,291,291,292,666,1031,666,1031,668,668,303,669,669,669,669,669,670,671,309,1040,1040,1040,309,309,309,309,309,1041,1041,1041,311,311,311,311,311,311,311,311,1042,316,1049,1049,1050,319,685,685,685,685,685,685,685,685,685,685,685,685,685,685,685,685,685,685,685,685,685,685,685,685,685,319,319,1051,41,698,698,698,698,698,698,698,698,332,332,332,698,698,698,332,698,698,698,698,698,698,698,698,698,698,698,332,698,698,698,698,698,698,698,698,698,698,698,698,698,698,698,698,698,698,698,698,698,698,332,347,347,347,347,347,347,347,347,347,347,347,347,347,347,347,347,347,347,347,17,17,17,17,17,17,17,17,17,17,17,17,17,17,17,17,17,715,1081,351,1085,1085,728,728,3,3,3,3,3,3,3,3,3,3,3,381,386,22,22,407,50,415,1885,1526,71,437,1168,1168,1168,1168,1168,1168,1168,807,442,85,85,2644,99,866,135,140,140,140,141,141,142,142,156,156,156,157,157,157,161,161,169,169,174,174,174,174,175,175,175,924,939,224,958,592,238,1708,612,613,249,249,249,249,249,249,249,1348,253,253,253,253,253,253,253,253,987,263,266,270,272,637,1368,1368,1368,1003,1368,637,637,1003,637,1003,1003,1733,637,637,637,637,1003,273,1004,1007,276,277,277,1010,279,283,283,289,290,296,302,303,303,668,303,303,668,303,668,668,303,303,303,303,303,303,303,303,303,668,668,304,304,304,1765,310,323,323,323,323,323,694,694,694,329,337,340,340,22,710,1083,353,1084,1084,359,726,1095,364,372,741,741,741,741,741,741,743,379,744,744,744,744,745,745,745,745,16,16,16,16,16,16,16,16,16,16,16,16,16,16,16,16,16,16,16,16,16,16,16,16,16,16,16,16,1112,389,389,389,389,389,389,389,389,389,389,389,389,1126,1126,1131,766,766,767,767,407,791,1530,1530,435,435,435,435,435,436,1899,1899,439,76,442,442,442,442,442,442,442,442,442,442,442,442,442,442,442,442,442,442,442,442,442,442,442,442,442,442,442,442,442,442,442,442,442,442,86,455,455,456,456,456,91,824,462,462,462,462,1197,107,107,479,480,115,483,484,486,122,122,122,122,122,122,122,122,122,122,122,126,128,1225,139,505,142,142,514,521,521,521,521,521,521,521,521,521,521,156,156,156,156,156,156,156,156,156,156,156,156,156,156,521,156,156,156,156,156,156,521,521,156,156,156,521,156,156,156,156,156,156,156,156,156,156,156,521,156,521,156,161,891,1257,893,899,174,174,174,174,174,174,174,174,174,174,174,174,174,174,174,174,174,174,174,174,174,174,174,174,174,174,174,174,174,174,174,174,174,174,174,174,174,174,174,174,174,174,174,174,174,174,174,174,174,174,174,174,174,174,174,174,1271,1271,1271,905,1271,1271,176,176,906,1273,546,196,1292,1292,1292,1292,1292,197,197,197,569,206,206,2402,2402,2402,211,211,942,223,223,224,224,1321,226,1322,591,1323,1328,1328,963,1330,599,1330,599,1334,239,1701,970,1336,247,247,1344,1344,1344,258,1355,626,265,266,1362,1363,268,998,268,268,268,268,268,268,268,268,268,268,268,268,268,268,268,268,268,268,268,268,268,268,268,268,268,268,268,268,268,268,268,268,268,268,268,998,998,998,998,998,268,268,268,998,998,998,998,268,999,637,637,637,637,637,637,637,637,637,637,637,637,637,637,637,637,637,637,1368,637,637,637,637,1368,637,1002,1368,1002,637,637,637,1002,272,1002,1002,272,272,272,1002,272,272,637,637,637,637,637,1002,1002,279,287,293,294,294,294,294,1030,300,300,300,300,300,300,300,300,300,300,300,668,315,37,328,328,328,328,328,328,328,328,328,328,328,328,328,328,328,328,328,328,328,328,328,328,328,328,328,328,328,328,328,328,328,328,328,329,336,702,702,702,702,702,702,702,702,702,702,702,702,702,702,702,702,702,702,702,702,702,339,339,339,339,339,339,339,339,339,349,349,350,350,1452,363,363,363,363,363,363,363,363,377,377,381,381,399,78,449,131,131,131,496,131,131,131,131,135,142,152,152,152,152,152,152,152,152,152,152,152,152,152,152,152,152,152,152,152,152,152,152,152,152,152,152,152,152,152,152,152,152,152,152,152,152,152,152,152,152,152,152,152,152,152,152,152,152,152,152,152,152,152,152,152,152,152,152,152,152,152,152,152,152,152,152,152,152,152,152,152,152,152,152,152,152,152,152,152,152,152,152,152,152,155,155,155,155,155,155,155,155,155,155,155,155,155,155,155,155,155,155,155,155,155,155,161],\"y\":[0,0,0,0,0,0,0,0,0,0,0,0,0,0,0,0,0,0,0,0,0,0,0,0,0,0,0,0,0,0,0,0,0,0,0,1,1,2500,3,7,1,1,1,1,1,1,1,1,2,3,3,9,9,12,12,12,24,26,34,36,36,36,36,48,50,162,433,500,712,5414,17442,308959,1702,3000,3500,5500,10,131,300,339,545,566,800,872,1668,1875,1929,2229,3360,4088,5000,6826,10000,12000,15000,16489,32133,106658,200000,216238,236199,279181,300000,314000,4,89,4,6,0,0,0,0,0,10,565,872,1667,1875,2005,2228,3000,3000,3000,3000,5000,10000,10911,149439,1665,5500,10090,9200,3000,3000,3000,4600,4600,4600,4600,4600,4600,4600,4600,4600,4600,4600,4600,4600,5500,5500,5500,5500,5500,5500,5500,5500,5500,6000,6000,9200,13800,22000,1,545,565,1667,1874,1929,2005,3359,5686,8733,10000,11060,14537,14537,22000,29088,30000,52000,55230,73000,73000,106658,216237,279180,279181,314000,396000,470678,470678,870000,870000,2186503,17391835,1874,4080,5040,279180,425088,1,1,1,1,1,4,1,2,1,1,1,1,1,1,1,1,1,1,1,1,1,1,1,1,1,1,1,1,1,2,2,2,3,3,3,3,3,3,4,4,4,5,5,6,8,13,16,16,32,37,54,56,399,8,0,0,0,0,0,0,0,0,0,0,0,0,0,0,0,0,0,0,0,0,0,1,1,1,1,1,1,1,1,1,1,1,1,1,1,1,1,1,1,1,1,1,1,1,1,1,2,2,2,4,0,1,35,1,1,1,1,1,1,1,1,1,1,1,1,1,1,1,1,1,1,1,1,1,1,1,1,1,1,2,2,2,3,11,145,1,4,17,58,218,430,660,1,2,49,56,148,0,0,0,0,0,-999,-999,-999,57,80,1,1,1,1,1,1,1,1,1,1,1,1,1,1,2,2,2,2,2,2,2,2,2,2,3,3,3,3,4,4,4,5,6,7,7,10,12,18,25,37,47,55,1,1,1,1,1,1,1,1,1,1,2,2,2,2,2,2,4,6,6,8,8,9,14,17,39,58,16,42,63,71,208,430,705,0,0,0,0,0,0,0,0,0,0,0,0,0,0,0,7,12,1,1,1,1,1,1,50,38,883,6718,7167,151285,1,1,3,5,5,8,27,32,1,80,192,54,0,0,0,7,10,200,255,347,500,600,1000,1000,1000,1672,3851,4000,4000,4250,5000,8336,20000,30000,30000,39049,40000,50000,78320,100000,100000,150000,150210,200000,300000,500000,500000,3000000,3,23,1,1,1,1,1,1,1,1,1,1,1,1,1,1,1,1,1,1,1,1,2,2,3,3,4,6,4,9,13,21,231,300,0,0,0,0,0,0,21,10,68,1680,7000,19254,78320,78644,255721,488558,559440,2619018,5217027,23425825,2,400,1,66,66,0,0,0,0,0,0,0,0,0,0,0,0,1,1,1,1,1,1,1,1,1,1,1,1,1,1,1,1,1,1,1,1,1,1,1,1,1,1,1,1,1,1,1,1,1,1,1,1,1,1,1,1,1,1,1,1,1,1,1,1,1,1,1,1,1,1,1,1,1,1,1,1,1,1,2,2,2,2,2,2,2,2,2,3,3,3,3,3,3,3,3,3,4,4,4,4,5,6,6,8,9,9,9,10,10,11,15,16,18,18,24,29,32,37,59,60,90,140,156,263,263,1183,1592,2224,8179,328347,-999,1,1,1,1,1,1,1,1,1,1,1,1,1,1,1,1,1,1,1,1,1,1,1,1,1,1,1,1,2,2,2,3,3,3,3,4,4,4,4,4,6,6,7,7,9,12,12,14,1,2,3,3,3,3,3,3,3,3,3,3,3,3,3,6,6,6,6,6,6,6,6,6,6,9,9,9,12,12,13,13,14,14,15,16,16,18,18,18,20,21,24,24,30,30,30,35,36,41,42,48,52,56,60,77,78,81,83,92,96,99,100,120,127,131,132,157,193,195,243,253,259,268,300,443,503,1053,1088,1271,6965,7934,1,1,1,1,1,1,1,1,1,1,1,1,1,1,1,1,2,2,2,2,2,3,3,4,4,6,7,7,8,12,13,14,17,26,0,1,1,1,1,1,1,1,1,1,1,1,1,1,1,1,1,1,1,1,1,1,1,1,1,1,1,1,1,1,1,1,1,1,1,2,2,4,4,8,15,15,17,50,104300,1,1,1,1,1,1,1,2,2,2,2,4,4,4,0,111,111,2,9,6,1,1,1,1,1,1,2,3,3,3,6,6,10,0,36,160,2,28,28,1,1,2,4,10,10,99,1,1,1,1,1,2,3,3,15,163,0,6,19254,556176,751608,2691050,1,1,100,3000,185,2,2,2,2,3,4,7,12,1000000,1,1,1,1,1,1,1,1,2,2,2,2,2,2,2,3,3,3,3,3,3,3,4,6,7,9,11,15,32,45,48,85,1,35000,5642,1,1,1,1,12302,10684,0,0,0,0,0,0,0,0,0,0,0,0,0,1,1,1,1,1,1,2,2,2,2,2,2,2,2,3,4,5,6,7,7,8,9,90,0,0,0,93,200,200,200,250,650,1183,1500,2000,2229,5000,10000,10000,10500,20000,30000,50000,50000,100000,100170,136882,556176,7500000,0,0,0,0,0,75,0,1000,1,1,1,1,1,1,1,1,1,2,2,2,2,2,3,4,336,5,30,41,1,1,4,7,15,20,48,173,1,2,3,10,10,10,37,50,52,75,440,0,0,0,0,0,0,0,0,0,0,0,0,0,0,0,0,0,0,0,0,0,0,0,1,1,1,1,1,1,1,1,2,2,2,2,2,4,4,4,5,5,9,15,28,60,221,-999,-999,-999,-999,-999,-999,-999,-999,-999,-999,-999,1,2,178,-999,6,50,57,4,13,51,200,1,3622,2000,3000,35,2,2800,1,80,79,500,3450,32,143,500,22,834,100000,0,1,144,211,2,1,28,50,75,115,175,250,750,5,5,150210,1,1,1,1,1,1,1,1,1,1,1,1,1,1,1,2,2,2,2,3,3,3,3,3,3,3,3,3,4,4,4,4,4,5,5,5,6,8,8,8,12,12,17,59,149,571,399,0,0,0,0,0,0,0,0,1,1000,2000,12300,21425825,50000,136882,444044,0,0,0,0,0,13,1,2,300,21000,0,0,0,0,0,0,0,0,0,0,0,0,0,0,0,10231000,5000,2,1,1,16,500,0,100,250,40,16,39,41,0,0,0,0,4,-999,-999,-999,-999,-999,-999,-999,-999,-999,70,1,6,7,12,1,1,1,1,1,2,2,2,2,2,2,5,7,7,10,14,16,16,19,31,1110,2423,0,0,0,0,0,0,0,45,360,1,2,5,7,15,15,18,31,0,0,0,0,0,0,0,0,0,0,0,0,0,0,1,1,1,1,1,1,1,1,1,1,2,2,2,2,2,3,3,3,3,3,4,4,4,5,6,7,8,10,14,17,19,19,22,84,91,10,10,15,1,4,22,-999,-999,-999,2,2,3851,4250,10000,30,14,645,0,7900,5,20,25,50,150,180,180,3788,5,10,20,1,1,1,1,2,2,2,3,4,7,7,8,200,30069,224,1,1,102,1,17,184129,40,0,79,195,36,200,20,20,30,30,30,40,40,60,0,2,2,2,25,1,1,1,1,2,3,6,18,-999,-999,-999,-999,-999,-999,0,1,208,382,2000,19503,200,12,108,324,432,1,30,550,1,1,2,7,63,300000,0,-999,1,1,1,1,2,2,10,17,1,37,8870,1,1,1,1,1,1,2,2,2,2,3,3,3,4,4,4,5,5,5,7,7,8,10,10,12,15,17,20,23,29,30,34,40,60,60,66,140,194,589,1,2,3,4,4,8,10,20,23,26,51,59,81,-999,10,30,30,50,200,0,75,1,1,1,1,1,2,3,3,6,7,7,8,11,14,14,16,21,26,225,30000,1,8,10,11,20,23,38,0,0,0,0,0,0,0,0,0,0,0,0,0,0,0,0,0,0,0,0,0,0,85,1000,2496,3385,-999,0,8,13,0,20,0,0,0,0,0,0,0,0,0,0,0,42,120,2,1271,2500,3000,4000,5000,6000,23700,1,2,2,4,45,1,15,10,10,236,300,40,60,1,0,0,0,0,0,0,0,0,0,0,0,0,0,0,0,0,0,0,0,0,0,0,0,0,0,0,0,0,0,0,0,0,0,0,0,0,0,1,1,1,1,1,1,1,1,1,1,1,1,1,1,1,1,1,1,1,1,1,2,2,2,2,2,2,2,2,2,3,4,5,5,7,7,8,9,9,9,12,12,14,16,17,20,20,21,23,30,50,1130,1130,2583,-999,-999,-999,-999,-999,-999,-999,-999,-999,0,2,20,40,0,6,0,24,-999,2,2,4,0,0,13,0,101669,201000,3,50,0,-999,0,1,14,104,15,2,6,19,25,528,4696,5500,16503,0,0,-999,0,20000,-999,1,1,1,1,1,1,1,2,2,2,2,2,2,2,2,4,-999,9184,0,200,59,110,145,0,176,1,0,10000000,0,2,40,2,4,4,3901,20,30,100,20,36,539,813,936,1200,3024,20000,80064,165,1,50,807016,100,100,208,372,415,575,701,1000,1000,1000,1000,1000,1504,2680,3584,5005,6000,-999,0,96,343,754,8000,10880,175,227,2232,19940,30214,100737,7169600,1,4,-999,0,50,0,2,4201,152,191,195,421,559,1000,5000,7820,163040,381023,807016,10,0,40,10,0,1,150,200,347,660,1000,2000,3000,10000,15000,1,20,-999,0,0,0,1,2,2,3,4,6,7,10,10,17,20,43,2068,-999,10,0,0,0,0,0,0,0,0,0,0,0,0,0,0,4,0,0,0,0,3,5,6,0,0,54,0,0,0,0,105,275,8,250,20,200,0,0,2,0,1,2,2,22,2,2,12,50,11,0,0,17,4,1,283,970,1,4,1,20,26,1,12,141,3,20,24,100,100,8454,3,20,0,18,150,2,4,18,30,200,798,449917,13,0,2,5,43,50,159,0,32,-999,-999,-999,-999,-999,-999,-999,-999,-999,-999,-999,-999,-999,-999,-999,-999,-999,-999,-999,-999,-999,-999,-999,-999,-999,-999,12,0,1,1,0,0,1,30,51,-999,10,2,6,6,500,0,0,0,0,0,99,0,2,25,2,10,4,2,1,2,3,18,2,0,1,1,2,4,10,1,1,1,1,1,-999,0,0,0,0,2,50,2,6,2,2040,3822,8000,5,23,144,-999,1,2,3,-999,516,3,1,38,261,427,10,2,193,1,2,4,4,23,70,18,6,1,0,0,0,0,0,0,0,0,0,0,20,26,32,83,100,100,107,144,167,189,203,256,259,263,500,500,561,757,900,1000,1072,1860,1995,2000,2000,2080,2210,2380,2500,2672,2672,2880,3344,3540,4170,4889,5022,5077,5092,5131,5148,5192,5256,5400,6159,6663,6742,7008,7235,7326,7354,8367,9366,9882,10000,11463,11930,12270,13538,13803,14394,14886,19920,20000,21246,22030,27712,30904,36500,44541,45205,52000,52980,55446,63579,65881,82128,85806,91485,91800,96800,117978,129535,141783,196853,201600,208040,247275,269362,273160,341442,410721,465634,486810,597107,684213,937778,3015600,10833030,14707930,15000000,-999,-999,-999,-999,16503,2,2,1,32,8,-999,14,6,7,9,32414,14,85,100,1,1,2,3,4,4,5,11,17,2,2,10,11,75,3,4,1,40,1,2,5,1,1,1,1,1,1,1,1,1,1,2,3,3,5,6,7,18,250,14,29,15,39,50,100,100,100,500,500,573,650,1000,1000,1001,2082,2389,4000,7035,10000,14645,15000,50000,50000,100000,145000,6,-999,0,1,0,1,1,1,1,1,21,30,1,1,1,1,2,2,1,1,1,1,1,1,1,1,2,2,2,2,4,7,9,10,11,14,19,0,2,5,5,2,17,31,58,60,101,395,16221,-999,-999,-999,-999,-999,-999,-999,-999,-999,-999,-999,-999,-999,-999,-999,-999,6,100,192,250,400,400,500,1000,1000,1500,3500,5000,100000,100000,1,6,93,1,1,1,1,1,1,1,1,1,1,1,1,1,2,2,2,6,7,9,11,1,4,938,1342,1872,1890,3200,3757,4200,4943,6230,8867,9240,22000,49638,173801,500000,1000000,-999,-999,-999,-999,-999,-999,-999,-999,-999,-999,2,2,15,15,140,-999,0,50345,22300,9232,29,400,-999,-999,109100,0,0,0,4,729,6,1,2,2,40,0,0,0,0,0,0,0,0,0,0,0,0,0,2,2,15,-999,12,34,20,100,100,1,1,1,1,1,5,-999,-999,-999,-999,-999,-999,-999,-999,-999,-999,-999,-999,1,2,3,3,3,3,3,3,3,3,3,3,3,3,3,3,3,3,3,3,3,3,3,3,3,3,3,3,4,4,4,4,6,6,6,6,6,8,12,24,1,1,1,1,2,3,3,3,3,4,4,4,4,4,5,5,5,5,6,6,7,7,7,8,9,9,9,10,10,13,25,41,65,81,94,112,117,156,201,0,17,12,90,260,5,2,29,-999,1,1,3,4,7,10,3,-999,-999,-999,-999,-999,-999,-999,-999,-999,-999,-999,-999,85,6,-999,-999,-999,-999,-999,-999,1,1,2,3,3,5,5,6,7,10,19,19,25,-999,-999,-999,-999,-999,0,0,0,0,0,2,2,1,6,9,10,44,55,108,187,198,200,220,550,660,670,-999,71,5,10,20,4,2,3,7,38,8,25,1,1,1,1,1,1,1,1,1,1,1,1,2,2,2,2,2,2,2,2,2,2,2,2,3,3,3,3,3,3,3,3,4,4,4,4,4,4,5,5,5,5,5,6,6,6,6,6,7,7,7,8,8,8,8,10,10,10,11,12,13,13,14,14,16,16,23,25,27,27,29,41,48,55,15,3,1,2,9,3,4,6,3,18,1,1,1,1,2,3,3,3,3,3,3,3,3,3,3,3,3,3,3,3,3,3,3,3,3,3,3,3,3,3,3,4,4,4,4,6,6,6,6,6,8,12,24,-999,-999,-999,-999,-999,9,1,2,12,1,16,24,1,2,20,100,15,3,4,4,4,4,8,8,15,50,3500,5260,40000,1,1,1,3,3,4,4,6,7,8,24,70,2,2,150,3439,184129,2000000,1,1,13,1600,3147,22,1000,1828,1,1,2,908,8934,-999,-999,-999,1,2,-999,-999,-999,-999,-999,-999,1,1,1,1,1,1,1,1,1,1,2,2,3,3,3,4,5,5,5,5,6,6,9,16,19,21,94,404,1371,3,2,0,58,1,12,2,24,6,-999,-999,-999,-999,-999,4,800,-999,1,-999,-999,2,3,2,5,6,24,1,2,2,2,3,6,41,72,82,-999,-999,-999,-999,-999,-999,1,4,15,1,3,2000,50,0,8,410,6,10,10,-999,-999,-999,-999,-999,-999,-999,43,11953,1,16,224,295,-999,-999,1,1,2,2,10,-999,-999,-999,5,35,36,-999,200,250,2,4,1,2,3,5,3,1,-999,10,-999,6,110,-999,76,1,12,1,2,2,6,75,-999,100,910,15,-999,50,551,1018,3000,20000,2,634,-999,37,51,151,3,7,10,-999,222,-999,1,1,2,2,-999,-999,31,-999,1,2,2,2,2,2,4,17,53,-999,18,1,68,132,150,239,-999,-999,6,3,4,13,13,793,1115422,1,175,184,200,3600,11328,1000000,30000,4,42195,66879,597107,-999,-999,-999,-999,-999,129535,274562,341442,1,1,1,1,1,1,2,12,11794,40,14,1540,1,1,1,1,1,1,1,1,1,1,2,2,2,2,2,2,2,2,2,2,2,3,3,3,4,4,4,200,5212,269,1,1,1,1,1,1,1,1,1,1,1,1,2,2,2,2,3,3,3,3,3,3,3,4,4,4,4,4,5,5,5,6,6,7,8,8,11,13,14,14,25,80,84,339,885,908,1345,3900,7128,12500,-999,120,932,1256,1500,1923,4040,4860,7968,-999,-999,-999,-999,-999,-999,-999,-999,-999,-999,-999,-999,-999,-999,-999,-999,-999,-999,-999,-999,-999,-999,-999,-999,-999,-999,-999,-999,150,89100,2,21,29710,6,93,-999,-999,-999,-999,-999,-999,-999,-999,-999,-999,-999,-999,10,1,1,46,12,36,0,85,357,3,30,200,1200,1271,1600,2500,2863,48,6389,2,2,200,4,1,15,1,2,57,1,2,6,71,1,1,367,1,1,11,9,14,-999,-999,2,2,3,7,1,3,50,3,68,10,60,1829,1,2253,-999,20,4,4,4,50,149,200,1000,70,2,2,2,2,7,7,42,42,100,10,7,5,0,1,1,1,1,2,2,3,3,4,5,6,6,6,12,12,12,16,65,3,6,8,23,6,20,2,32,4,19,9,-999,1,1,1,1,1,1,1,2,2,4,4,4,5,6,7,8,10,10,11,12,27,31,5,19,19,1085,10,1,4,6,10,10,1,2,31,-999,2,8,300,2500,36591,0,1,2,2,2,50000,0,1,24,3672,8096,13538,29347,42000,126216,120,7,3200,9964,28084,1606115,78221,129000,330791,3293574,1,1,1,1,1,1,1,1,1,1,1,1,1,1,1,1,1,1,1,1,1,1,2,2,3,4,4,7,-999,2,3,5,79,275,1499,4900,9000,26673,28000,58767,219160,2,7,-999,1,36,1,3,2,53,1,2,2,2,2,3,5,25,264,1150,20,2,1,1,1,1,1,1,1,1,1,1,2,2,2,2,2,2,2,2,3,3,4,5,7,8,8,8,9,12,13,14,20,27,28,155,5,2,2,1,1,1,-999,-999,2,2,16,-999,-999,2,2,6,24,-999,9,9,3,1,1,2,2,2,3,4,6,10,200,300,2,4,0,67,18,2,8,6000,1,1,1,1,1,1,1,1,1,1,1,1,1,1,1,1,1,1,1,1,1,1,1,1,2,2,2,2,2,2,2,3,3,3,3,3,4,4,4,4,4,5,5,5,6,7,8,8,9,14,15,2100,1,818337,-999,350,3000,-999,-999,-999,-999,-999,-999,-999,-999,-999,-999,-999,-999,-999,-999,-999,-999,-999,-999,-999,-999,-999,-999,-999,-999,-999,-999,-999,-999,-999,-999,-999,-999,-999,-999,-999,-999,-999,-999,-999,-999,-999,-999,-999,-999,-999,-999,-999,-999,-999,-999,-999,-999,-999,-999,-999,-999,134,970,1455,2665,3400,35000,6,6,566000,-999,50,2,2,3,3,4,10,1,1,4,2,1,10,3,19,32,-999,-999,10,6,6,512,8683,-999,-999,-999,-999,-999,-999,-999,-999,0,-999,-999,-999,-999,6,4,8,-999,5,-999,1,2,16,1,-999,4,-999,2,600,-999,2,32,93,113,115,159,474,500,1000,1300,1861,2322,2634,2734,2750,3143,4335,4382,6000,6252,6494,9995,14105,15575,20526,22976,25100,38061,56000,78811,100000,163099,434005,1756419,2581607,3488056,5900062,-999,-999,-999,-999,-999,-999,-999,-999,-999,-999,-999,-999,-999,-999,0,1,1,1,1,1,1,1,1,1,1,1,2,2,2,2,2,2,2,3,4,5,6,6,10,14,20,34,59,100,100,10000,-999,-999,-999,-999,-999,-999,-999,-999,-999,-999,-999,-999,-999,-999,-999,-999,15,1,3,2,6,42,-999,200,-999,-999,-999,-999,-999,-999,-999,-999,-999,-999,-999,4,1,10,20,36,55,60,90,94,100,100,100,100,100,100,100,100,100,100,100,100,100,510,576,1000,1143,1204,5000,9485,14629,32067,36203,44000,48400,100570,120000,-999,1,-999,-999,-999,-999,-999,-999,-999,-999,-999,-999,-999,-999,-999,-999,-999,-999,-999,-999,-999,-999,-999,-999,-999,-999,-999,-999,-999,-999,-999,-999,2,6,-999,-999,0,-999,-999,-999,-999,-999,-999,-999,-999,1,2,1,36,20,1,1,1,1,10,12,120,-999,-999,-999,5,0,1,1,1,1,1,1,1,1,1,1,1,1,1,1,1,1,1,1,1,1,1,1,1,1,1,1,1,1,1,1,1,1,1,1,1,2,2,2,2,2,2,3,3,4,4,4,4,5,5,5,5,6,6,6,7,8,8,8,8,10,10,10,11,11,12,12,13,14,15,17,17,18,20,24,25,26,26,26,33,48,59,84,175,200,-999,-999,-999,-999,-999,-999,-999,-999,-999,-999,-999,-999,-999,-999,-999,-999,-999,-999,-999,-999,-999,-999,1],\"z\":[9454.20507,9454.20507,18908.40982,18908.40982,28362.61489,9454.20507,9454.20507,4727.1022,9454.20507,9454.20507,9454.20507,16279.34389,6837.32455,16279.34389,8139.67228,4069.83598,16279.34389,8139.67228,10054.88908,10054.88908,20109.77813,20109.77813,5027.44454,20109.77813,6837.32455,6837.32455,6837.32455,13674.64907,6837.32455,13674.64907,6837.32455,6837.32455,3418.66226,6837.32455,16279.34389,319.9806,3075.5232,51917.7,8250.777,2476.3746,28.548,11.712,10145.52,50023.938,35437.584,20789.914,50023.938,329.4,31865.914,217434.744,170807.076,735295.473,438075.648,38675.952,65405.664,1020698.28,241841.088,6914.986,1112038.32,30647.376,5339.376,8319.672,536315.904,843.264,15774.6,1384942.536,2008.4272,77.604,2466.42632,28.9756,233.37396,2755.91428,204.95484,4913.136,13085.863,581.361,0.6913,7.35728,20.07,296.18895,7059.707,36.91,18.1968,25.65012,1017.69344,121.26516,17894.96,2293.43805,88933.5596,1637.2744,3498.87,5896.98,253328.0,845.648,1966.86,14465.494,72573.773,8419.8062,8384.8,60115.62,35079.821,498.05884,3211.2,4201.32,140989.12,46057.5,135083.84,5807873.934,1786.13424,1786.13424,1786.13424,1786.13424,1786.13424,0.6913,36.811,26.005,1017.087,121.565,1171.4205,2293.195,6775.44,777.378,2631.4,1161.384,3835.6,383.6,783.88,1999.52,4199.34661,4928.077,1413.04396,1985.9488,7566.39,2847.264,825.546,4365.8048,184.644,6899.5308,10270.3096,30954.5408,9613.7976,3303.076,7814.5444,9291.6964,2269.0696,2474.2296,2293.6888,30437.5376,9007.416,267.377,22641.19,14597.803,10376.19,1513.501,18292.021,13422.816,20563.499,2421.78,2488.68,2252.6568,1150.9476,982.761,49060.0,7275.486,367.9054,1017.052,121.19158,17052.374,1171.4413,88933.566,747.082,615.39432,24909.1,8898.592,10166.658,10172.607,3090.78,42.77312,481.68,278.304,904015.686,5697.65,20294.475,8416.3911,60115.311,498.05712,498.05884,4197.58,1942.776,659995.9592,6599.9542,3104.16,776.04,7801.432,15513.527,100.95238,2383.768,3855.772,498.05712,2085.496,6706.551,4717.5,1540.71,1275.0,51.0,6677.124,748799.193,26759.1384,556.5832,3583.9006,827.6274,319.9806,2519.9,6306.876,2158.3,2572.7616,4692.1436,3216.4488,3038.5088,3723.927,2072.4646,3631.555,6794.364,4000.8006,2880.8912,3531.5856,2869.434,1023.4362,2148.66,639.9612,5394.8332,287.1112,1989.9618,1669.7496,1929.7974,10125.9042,7559.7,9366.6672,1481.4176,8602.6264,1180.9912,23052.327,12599.5,13476.4452,1610.09224,3020.86781,3717.9912,49208.3712,74851.2,86546.7,10868.12342,278126.856,4742952.568,190320.0,50665.804,173389.652,30399.469,294987.592,172513.937,30245.977,293497.711,50409.917,402824.414,70625.053,685324.664,117708.445,327319.4,437169.2,153245.6,224382.6,99993.2,117565.6,17438.6,3082885.8,51000.0,40318.6734,765.0,3738.81,1519.902,2499.0,510.0,1173.0,1809.327,1648.83,3534.81,2076.822,509.47741,1682.49,862.002,1095.123,1683.0,1137.147,7668.564,3315.0,867.918,2448.0,2550.0,1122.0,1530.0,1230.375,2946.372,2040.0,5100.0,9180.0,10200.0,2598188.35,792.939,494.881,12127.61107,465.276,2544.7868,13757.3098,2151.0,3977.6514,1409.5742,2716.5696,796.0116,1260.218,1493.7022,219.4614,617.75768,1316.6442,804.816,496.9656,1375.0596,925.704,764.8,814.1724,1375.0596,822.5766,826.5924,1078.3458,1698.228,741.3912,9893.172,760.3408,2179.5858,1659.88231,14261.92321,41400.0,17623.98,260339.8428,612306.0,3547463.162,9851039.334,867.4578,15314.1084,8811.99,797365.5732,565967.808,3390590.282,1848.94378,1848.94378,3032.89793,18197.38819,6065.79618,10122.60915,5061.3044,5061.3044,576074.376,1832751.504,365.7276,1288.688,2070.0,4041.206,3751.254,3032.8144,2700.7,2519.9,3149.3398,3896.77328,3595.5736,3751.254,3357.3988,3091.226,90.2464,760.3408,1912.3824,1235.51504,1784.0,4140.0,6027.84,2577.376,1426.51248,13862.6612,2179.5858,9631.71,7559.7,135.3696,3180.0384,10079.6,11927.4672,2140.006,5736.0,5478.7978,1215.7068,23391.0,2233.5984,42103.8,75348.0,86546.7,19150.0184,128650.5,2158.3,2771.6224,2373.9008,3460.737,2982.456,5607.8256,3454.002,3393.6088,1469.6592,956.1912,5401.4,8127.8136,229.6008,1590.0192,1912.0,12868.0308,10079.6,2281.0224,4359.1716,18712.8,1489.0656,21051.9,2256.9624,42838.3,39530.2518,10072.9992,245025.7344,443394.0,637663.1688,717566.328,3384735.494,9851039.334,9432596.286,53752.55112,53752.55112,53752.55112,53752.55112,107505.1026,107505.1026,107505.1026,53752.55112,53752.55112,53752.55112,53752.55112,53752.55112,26876.27556,53752.55112,53752.55112,104777.1203,76535.3736,2821132.627,3813008.741,294.984,26.082,24.3334,26.4546,81435.87,81113.9564,20879.2414,177814.5768,181560.152,79078.476,2390.0,15.296,7170.0,35850.0,478.0,2294.4,6453.0,4588.8,14968.16,1070365.536,1940461.056,2129546.02,157720.892,368015.4144,102000.0,46524.492,162727.668,223.0,13.53403,369.57172,432.174,788.3496,9722.8,353.232,481.234,24.60856,858.773,1345.136,10704.0,947.75,24307.0,4669.6272,410.32,1940.1,1217.58,644.38663,660.08,943.29,5052.4232,1070.4,89.2,2207.7,9446.10606,713.6,2849.94,446.0,5352.0,32112.0,5842.368,39935.268,2648781.092,841800.0,1098.8802,1136.832,1330.506,955.0,4825.8324,350.8288,4057.2,2393.994,401.1,3401.5572,7442.2296,232.254,191.0,828.0,764.0,909.16,649.4,4302.0,1264.42,2830.7728,11879.73,3041.8278,16868.0504,6083.6556,102.5064,36603.414,307.3954,759.8766,6726.951,70089.3,3029.203,2946.54806,2946.54806,5893.09577,2946.54806,112394.621,1052630.397,481320.0,688271.3568,23.97696,109.27,163.15846,5064.9544,385.8274,1824.82512,6972.69984,1497.06144,29202.0507,4653.58802,250750.0308,69.1008,36571747.92,106355.0,546480.0,2820812.267,51000.0,107396.9632,107505.1026,53752.55112,107505.1026,107505.1026,53752.55112,53752.55112,5601.076,1786.13424,1786.13424,1786.13424,4099.4236,1434.0,40.52568,28.65,38.2,13.9518,641.7,683.1,745.2,765.9,678.96,1429.0238,1391.9508,2496.6418,1336.1056,3955.928,1571.8959,2727.3724,421.7394,2339.1,1561.0,993.6,1468.0814,869.4,857.83768,914.04576,564.22441,579.6,579.6,1754.9292,881.193,662.4,611.2,223.0,826.60033,738.99,1964.844,1695.40866,1350.265,848.8656,1659.3292,2084.2026,1541.7774,893.7394,2695.5448,2700.7,2158.3,3216.4488,3082.23,3804.5584,2700.7,3558.71,4077.5312,3393.6088,2794.859,6637.986,148.7508,2564.7098,3698.6346,2981.8668,16062.1994,3091.226,1453.0572,2484.0,3456.8004,938.88334,1533.55568,8671.8924,8450.5404,5444.9464,1900.0116,3282.7302,1853.27272,7559.7,20383.092,11766.3354,8314.8672,18580.806,8513.4048,2629.7262,51.4936,51.4936,9356.4,15951.816,806.058,18453.1392,15119.4,18712.8,4657.5,27679.7088,1450.9044,266688.45,23391.0,31563.774,29258.33707,37425.6,42103.8,3350.3976,4168.1376,5397.8628,2596.608,86546.7,4787.496,4868.64,15630.516,11360.16,80730.0,10507.113,23485.8474,9210.29609,1821.94848,53947.568,185419.3367,700518.4743,5399.22516,4621.11,5373.615,3661.8663,8116.038,5110.149,1020.0,5373.615,1785.0,765.0,2295.0,922.08,2768.688,765.0,386.886,8415.0,8313.0,915.807,1838.55,3850.5,996.91536,2856.6,3426.264,5888.94,8205.9,1198.5,1198.5,1416.474,4621.11,1020.0,15382.04,705.7872,122.5854,8790.462,24617.7,24617.7,159.732,24585.52,1520.6816,877.8456,1597.3936,892.5048,2396.0904,46628.82,263.9238,3852.0108,79935.12,4448.3472,2256.9624,1782.662,84.74,3214.75908,868.8972,233.8824,30.67381,749.36576,749.36576,2243.19061,1873.2,151.3278,1774.4556,1497.891,19.99383,1824.363,1121.5116,22.746,3430.632,905.5584,2258.544,1306.70966,1654.0356,333.31708,335.5704,1995.2256,392.1678,1217.0448,1052.10954,1937.9592,292.2192,767.6552,603.40369,583.814,474544.0,275.628,5268.5088,677.92,120.725,1230.6845,3920.12866,536.984,895.3896,47.96456,204.59632,3932.99748,11669.79516,151.194,23415.0,320292.9074,509.61263,1215.7068,12844.8,1971.32,941.5952,4102.28124,666.2348,695.76,33546.6036,3737.81861,399.52852,8730.1824,2998.0566,180869.3682,4919.13024,5324.348,8956.64747,395260.7208,414.9505,8401.2128,607.13773,42202.3932,23007.6682,17303.9972,36515.804,1930225.56,35698.59065,539007.9391,14089.14,284549.4272,103759.1526,291683.8082,52717.5266,2339.1,2519.9,2339.1,1091.9418,3216.4488,3691.096,1493.5464,2572.7616,2339.1,407.4472,1798.0358,4521.2358,3320.47,6193.602,1457.6526,2374.8608,5090.5088,8671.8924,10602.996,2853.3708,7117.42,7017.3,7559.7,5974.1856,10211.724,23735.568,5478.7978,8853.1814,18712.8,30635.172,39981.8016,80489.052,2952.4308,4851.924,102000.0,111429.4,61.901,61.901,722.975,722.975,73.95957,174.0398,100.38,88.43,9.56,8.126,17.686,2390.0,17.20765,17.20765,17.20765,17.20765,17.20765,359.2228,359.2228,65.24665,55.1134,55.1134,55.1134,55.1134,55.1134,55.1134,55.1134,66.681,66.681,66.681,66.681,10.79904,66.681,210.32,129.06,187.1848,426.376,478.0,615.903,627.375,984.0586,2045.84,24475.038,14130.39,3531.5856,4347.831,2419.6838,3631.555,2339.1,2374.8608,5687.98,7116.3288,5895.174,5394.8332,12466.0368,12328.92,10079.6,134426.456,6764.895,13360.0044,1529755.936,30165.6996,5807873.934,3082.23,231.33285,374.81248,628.659,580.067,1177.9128,3248.2224,2257.4592,2111.4,9349.5276,17635.4064,17540.2692,1612.116,102000.0,363836.448,1324800.0,871080.0,16164950.23,5390448.0,1760.1624,542.7838,1160.134,30415.224,105069.53,79478.81,493965.0184,2339.1,3526.659,1426.6854,2967.8344,3375.3014,7975.908,7559.7,3081.5262,21735.0,3252534.276,2766.45,216594.0,163.15846,496.10912,692558.669,190833.1197,675776.175,2562.4484,219474.28,254220.0,2283900.11,14563.704,6787.2176,6848.178,3448.8656,6255.15,15187.8,25208.841,142174.5186,892.0,3833.1916,3558.1644,3116.5092,1549.181,1549.181,2746.3012,1716.9216,3804.5584,6290.2332,13588.728,6298.6796,3897.3132,3187.4688,11188.1016,6233.0184,9448.0194,4869.864,4980.999,5520.3264,5022.7722,8983.1982,7017.3,13501.2056,14034.6,17639.3,50548.5,4181.8744,35086.5,74851.2,64711.305,69025.392,15821.322,47226.624,720.3,2259.6662,3405.564,62.1,7530.401,2984007.551,4927.04948,4279.0276,6153.43725,6153.43725,6153.43725,6153.43725,6153.43725,6153.43725,6153.43725,6153.43725,6153.43725,6153.43725,6153.43725,6153.43725,6153.43725,3212.984,2519.9,4378.0252,3313.2448,3558.71,6498.22,6714.7976,4170.1,3448.8656,6848.178,14563.704,6787.2176,6261.336,12063.96,11499.5748,11977.5976,30159.9,9421.9284,25208.841,30627.1322,24657.84,13234.9248,277400.7,9661.31033,9661.31033,9661.31033,411859.8,112.0352,4816.8,4379.72,13.2685,561.8262,15976.80069,721.851,679.704,2292.47294,4381.95,3019.42,414.78,3530.982,5013.04,615.48,466070.0,3144.3,932140.0,1429.62624,4334.50554,496.10912,80280.0,4191.16904,8382.33808,4191.16904,4191.16904,4191.16904,99515.775,20400.0,6467.0,2712.009,955.0,678.96,3161.3938,560.5146,3841.6608,597.7918,3970.2597,2382.4958,1905.5592,2876.058,2021.4676,2059.744,124.2,1044.1494,14002.1424,1746704.064,4234620.0,1115955.93,678945.9903,3082.23,2982.456,13281.88,17639.3,47240.097,58784.688,277724.8646,570875.7765,3149.3398,13588.728,7017.3,23391.0,64542.72,32929.546,55868.8752,11055.08,73361.7248,99515.775,4109788.32,204791.069,510000.0,18897.336,18897.336,3029.203,27436.3475,11786.19189,17679.28734,11786.19189,5893.09577,11786.19189,5893.09577,24769.964,13078.709,13078.709,5601.076,5601.076,5601.076,57546.344,1403798.514,1786.13424,1786.13424,37051.07568,1765.3496,4335.9462,3212.984,3804.5584,2981.8668,3166.4216,3372.652,3352.8618,6714.7976,6908.004,6675.1928,55345.666,47935.36744,11756.9376,15378.6152,2457805.096,14616.891,15411.15,22976.379,43850.673,43377.068,151813.596,646066.5822,5061.3044,5399.22516,101226.0902,111348.6993,10122.60915,121471.3085,5061.3044,5399.22516,16197.67513,10122.60915,10122.60915,527452.18,1244400.0,1801651.493,3899.44027,33004.8,130636.38,653220.0,3339.408,731414.242,1444748.4,2024327.52,267400.0,32792.8636,442203.2,672014.4,868928.333,909800.0,599.424,601883.515,58320.704,17696.392,112002.4,772816.56,2045904.384,156.39427,1892.046,1017518.502,830590.7748,932140.0,39306.312,6033.666,1777733.856,1612040.0,223000.0,3533.0798,77465.78,70540.12,113219.07,151387.173,257345.76,331719.25,995157.75,1004660.0,938.92,9446.10606,2670.0798,7.39772,1457.6526,1608.9896,1378.1032,1625.1426,0.26011,0.88277,0.31035,0.33928,1.82631,0.79109,1261.2726,1798.0358,1722.7254,2821.6048,2522.5452,0.8602,1.14852,4941.5016,5287.5084,1936.9692,4480.6392,4125.6,4347.0,2.07321,3537.46933,2568.4248,33.70908,10680.3192,5085.204,2798.9712,1.69792,738.576,2037.294,8301.665,7.93458,13088.3616,8.51408,4.30576,275.38292,23383.8792,24288.937,1413.15517,22280.9832,105185.052,529417.539,43714.28586,43714.28586,43714.28586,43714.28586,43714.28586,43714.28586,43714.28586,99027.388,2601985.43,4906.0,47291.6,1009.3872,229342.0308,960730.0,4334.50554,50303.08056,94327.662,24036.88003,11668.19635,264.25378,132.24953,170194.752,71801.67,41579.796,67201.44,1479.828,20400.0,20400.0,20400.0,20400.0,20400.0,20400.0,20400.0,20400.0,20400.0,20400.0,20400.0,20400.0,20400.0,20400.0,20400.0,91260.52,120217.0,11590.758,601883.515,1310280.0,345246.752,121388.0,43714.28586,932538.4,331719.25,2889785.208,440029.7728,938276.04,922278.7968,70393.362,70393.362,70393.362,2285.77543,366000.0,20400.0,20400.0,20400.0,20400.0,20400.0,20400.0,20400.0,20400.0,20400.0,15477.112,1316.4102,9797.1444,11347.9884,20862.6192,28.9174,595.8054,660.1724,428.0012,972.9,798.6968,596.4548,1132.63,31805.964,25.594,179.7519,2892.695,6216.7826,2294.0148,8112.916,5590.8776,7401.008,5472.6848,16564.2076,14824.9998,1279.9521,6389.95999,49690.026,49690.026,49690.026,49690.026,49690.026,49690.026,49690.026,17970.678,143861.76,298.2274,1132.63,2892.695,6216.7826,6938.457,12169.374,15692.4072,14824.9998,3365.7786,3365.7786,3365.7786,214377.9044,25511.3475,11786.19189,5629.537,5629.537,5629.537,5629.537,396319.165,135108.83,394317.577,13078.709,1604.1708,3454.002,3483.81,3166.4216,3454.002,3214.53,2923.3782,3720.978,3753.09,380.1704,6967.62,11188.1016,10410.9408,6908.004,3057.9696,2969.3838,4586.9544,18079.3236,12067.11,10451.43,13948.6136,13816.008,15012.36,17419.05,188.0388,9288.139,44862.6048,835.816,40927.2948,24446.493,98903.9376,55544.1858,31636.638,120794.436,283602.3372,72319.01,75591.6205,149896.335,43395.2,115828.2064,637055.1352,9963.41907,9963.41907,4981.70952,1396.9488,7116.3288,735.541,811.75,1019.94,386901.06,46486.58,5666970.0,102000.0,1769637.92,113850.0,251294.88,302658.6,713751.72,2072134.17,2723789.88,2641277.88,192308.4264,118267.773,227617.756,556813.132,1991.652,1616.7528,2280.822,1964.637,3679.7676,4232.986,3483.4384,5123.6226,7946.9784,13979.406,14982.1658,11592.0,522545.52,484.71228,2267246.822,4192.4,7535.616,335881.3692,267400.0,297164.7906,2792.13222,253988.744,95734.98966,1758.1766,3717.051,1216521.634,287605.8,54240.944,62847.404,90062.994,294182.784,262684.974,120083.992,113512.064,907929.96,49275.384,6887.024,6425.968,5964.912,139851.27,5607.8256,5205.4704,1888.9604,5205.4704,3057.9696,8770.1346,18699.0552,56688.1164,152054.51,7602.72562,7602.72562,7602.72562,7602.72562,15205.45089,99027.388,2890902.274,384.52336,86.54904,345.204,16692.11059,2469079.92,266339.2783,63204.192,156999.708,29720.8224,1851.4908,883106.454,5144172.44,11.712,28.548,170116.3608,70536.984,538588.764,147180.0,10200.0,5100.0,3209.2442,3209.2442,2779.5546,2994.3994,5129.4196,5559.1092,25647.098,47252.4282,1326.877,53207.073,169078.166,12106.344,5479.1406,10971.231,3214.53,1878.4468,3760.0642,7513.2524,7513.2524,52639.6,7513.2524,36319.032,16437.4218,25497.0102,13104.4336,15040.2568,15040.2568,73368.83,2926.12,18783.131,170.3338,15529.17478,30080.5136,2292.0,61463.8,7022.688,2194.59,63921.0914,375415.848,931.316,108942.1598,386901.06,419690.3356,586950.64,13752.0,225603.852,248164.2372,526408.988,94005.998,86174.234,72.962,4396.3616,16.8462,99.32,896.0192,458.4,1222.4,5348.0,9722.5876,8062.7976,1416.3414,133.83058,1449.44692,25500.0,103354.302,262684.974,294182.784,199835.66,2452875.48,153000.0,51245.4,28.548,11.712,20789.898,9508.68,50023.9284,20153.424,44693.6508,30230.136,32702.832,22562.7654,571896.5574,680465.4432,175262.6502,3723.6108,2076.2448,366720.0,17877.636,8202.792,2175797.7,576438.0,1200152.796,77925.12,274290.0,377663.22,25806.0,605222.0,85465.8,9661.31033,97713.80378,97713.80378,97713.80378,97713.80378,97713.80378,97713.80378,97713.80378,97713.80378,97713.80378,97713.80378,97713.80378,97713.80378,97713.80378,97713.80378,97713.80378,97713.80378,97713.80378,97713.80378,97713.80378,97713.80378,97713.80378,2.61595,93.66,1876.88224,709.5637,3394.11391,14782.656,3194.7872,5936.502,75043.134,603983.068,17999.99983,17999.99983,17999.99983,17999.99983,17999.99983,17999.99983,17999.99983,17999.99983,17999.99983,17999.99983,18000.00047,958181.1137,2435227.08,72919.82,3200.5255,23192.0,29168.4,14254.16,2751.82,26872.392,3699.57,50022.888,100045.648,29795.748,1954736.0,1154025.0,47750.0,438066.441,215779.284,215779.22,2913514.306,3703619.88,1511341.368,2027536.056,1200152.796,163200.0,18000.00528,17999.99983,17999.99983,17999.99983,17999.99983,17999.99983,17999.99983,17999.99983,17999.99983,17999.99983,17999.99983,17999.99983,17999.99983,17999.99983,17999.99983,17999.99983,17999.99983,70393.362,5327.49897,2259.57853,435.20852,64.12618,24036.88003,4191.16904,9661.31033,9661.31033,9661.31033,1848.94378,1848.94378,1848.94378,1848.94378,1848.94378,1848.94378,13078.709,313889.176,920741.519,1994.6012,1986.7446,1986.7446,1986.7446,540.1862,601.6882,2647.642,3568.8042,3283.1372,3220.1454,6459.93846,2178.09212,2865.0,415.7688,2764.534,2406.6,434.724,1493.5464,189.33865,5452.4982,7181.6,11188.1016,4280.6188,651.2336,1604.4,6196.2552,2434.8996,3272.0904,3433.8432,2703.4224,5974.956,12323.436,12329.334,114.74275,585.0712,56.52017,31628.976,3336.2604,12942.261,203.8986,19401.0336,25683.7128,24384.0688,24786.896,390.12567,64188.216,34834.384,33468.4224,42584.2884,131890.59,12482327.5,36134.5863,35278.70396,50477.45094,3899.44027,5061.3044,177145.6579,30367.8271,3899.44027,5061.3044,44600.0,3899.44027,11698.32084,5327.49897,7099.32,147049.64,116623.8,1848.94378,124739.388,20400.0,811014.4224,19926.83811,534800.0,16280.84,227742.768,8207.977,20400.0,193672.4868,20400.0,1314.98675,7082.034,1826632.8,945450.0,20400.0,4981.70952,35193.096,8503.56,5249.538,32445.7536,438066.441,11460.0,8464.8144,522215.0,641125.0,2420.352,23329.728,2587.915,6914.757,143639.308,24036.88003,45616.35302,43714.28586,572236.0,167259.9609,1536.9606,4386.0086,536.337,3424.089,3454.002,4800.375,3357.3988,2853.3708,6471.696,923.508,5129.4196,6640.94,534800.0,16280.84,12063.96,7794.6264,3366.0,1920436.851,9661.31033,5620830.664,574719.0,1790004.348,1940037.534,496600.0,1781408.218,3558.1644,17999.99983,107040.0,43714.28586,7117.42,350246.632,50749.0056,15187.8,13252.9792,10292.929,251294.88,363190.32,1467376.6,31.96036,4141.42048,37.26123,203.41751,1678.17312,28.3656,404.6112,5548.24,6248.9952,7631388.765,745856.128,1215999.765,75873.06199,744.82,22.3,2865.41792,1426.8432,517.69689,344.1559,45.33383,22.3,22.3,22.3,22.3,293.022,5639.28096,7769.32,10183.81408,341.53135,82.956,5399.22516,20400.0,2.91136,901.49945,11.0975,53.52,703.6096,258.42371,1093.4136,4001.79744,570519.292,1900.03754,1699.65283,127905.664,61.0818,141078.1008,3366.0,17999.99983,1763476.9,49247.766,72919.82,487.14796,112.4668,27.94088,116.10511,187.766,5210.6626,22.3,5717.72,495.25624,12361.6928,5437.96032,127054.9849,25199.0,43714.28586,122240.0,263198.0,20700.0,993600.0,21541.8,112.048,369.562,867.196,876.39,2057.844,61.548,646.7,943.29,435.296,672834.936,39046.7985,20400.0,61559.698,17999.99983,3258.6128,7063.1712,5846.7564,11390.85,14405.052,22827.3504,23243.29,28439.9,31493.398,52397.91,58467.564,115988.9138,48791.1512,143224.152,32129.84,346.96591,346.8,349.35,349.35,349.35,349.35,349.35,349.35,346.8,346.8,346.8,346.8,346.8,346.8,13429.5952,2285.77543,264.25378,132.24953,12311.932,104511.7842,142410.062,1604400.0,25500.0,20519.877,161697.5676,14244.4259,14244.4259,43714.28586,4191.16904,37089.2588,6912290.0,25194.7184,7000150.0,672834.936,5027120.0,17999.99983,70393.362,52639.6,127198.602,5117155.753,534800.0,16280.84,37772.2752,16280.84,534800.0,5181.7536,6518.83,4077.6516,43714.28586,43714.28586,52397.91,8561.2376,2339.1,8072461.8,27668862.0,3531.5856,11071.6848,1426.6854,212550.912,76007.8332,3531.5856,62465.6448,2069001.006,47708.946,18.0184,875037.6864,19.9808,0.892,109.3441,139.1244,485.904,9661.31033,1300403.344,10836694.53,50271.2,9789.756,32997.2364,44753.592,624.4,2453.62988,3009.94489,601260.933,70393.362,62893.8036,122613.523,1255790.464,1109746.996,3627399.92,70393.362,1209073.094,3468.0,3366.0,3468.0,3366.0,3468.0,3366.0,3366.0,3366.0,3468.0,3366.0,3366.0,3366.0,3468.0,3468.0,3366.0,3366.0,3366.0,3468.0,3468.0,3366.0,3366.0,3366.0,3468.0,3366.0,3366.0,3366.0,35932.7928,70393.362,21521.7654,52210.754,17999.99983,17999.99983,3844.6538,446936.508,83438.3052,334046.0979,170568.0,57049.2,171147.6,122958.0,4669644.4,2052.011,2052.011,2052.011,106703.509,2052.011,157779.7056,24644.834,3702.9816,185338.645,8792.706,74135.458,19872.868,1218.2044,1518.2208,347.3448,4372.9578,125908.992,5039.8,70393.362,2392.3514,3488.835,3854.9912,7794.6264,31165.092,127970.0,229200.0,96589.951,51188.0,127970.0,7602.72562,70393.362,2259.57853,18574.098,70393.362,442152.0,9625800.0,9936.434,27670.518,13763.2644,3611.09988,111358.9495,232191.27,16064.92,111013.64,400255.8624,15205.45089,3268.59,3854.9912,16782.1524,266095.3926,742022.964,7969.3956,2676.892,75496.2948,804104.199,1315526.793,35962.938,412.758,275350.2822,306393.0,563780.0,2246.56,24219.712,67237.6986,5738443.084,189125.154,218759.4216,2339.1,20519.89874,20519.89874,20519.89874,20519.89874,20519.89874,20519.89874,20519.89874,20519.89874,20519.89874,20519.89874,58.23868,63.2385,62.2656,330.38581,147.6706,35.68,624.6018,558.42768,539.10078,104.01886,10638.215,326.31488,8848.3724,2486.7176,8920.0,8920.0,143.86861,3133.98,7.8246,169.926,277.11353,829.56,584.57905,3730.968,101.688,5227.4768,115.32222,2653.7,103.695,4790.68224,881.86688,27487.872,353.46736,78.942,269.6739,1395.51616,4703.6052,13552.90928,386.07544,68.65278,2296.008,254.71952,1427.60312,240.84,137.3457,148.5849,43263.414,156.2784,161.3405,2417.87304,47190.618,2582.69715,3847.23442,1562.8186,38448.768,7944.82202,154.30262,5472.42,745215.6181,4744.53564,154.93708,95523.462,2665.296,133.8,18619.78194,894.10958,23717.98016,55132.736,68632.264,119952.0309,3870.99456,162.344,874.27596,573.8661,907.39936,473065.1086,2637.2944,6046.57708,1305.67392,5936.706,4167.8208,31570.9128,1539.14229,2917.251,52677.8628,2430.42496,5659.93624,33085.395,5045.68892,5604.15056,94720.10804,17684.00344,62301.8292,193679.3057,87083.27919,7082.505,51635.9323,111112.7976,154609.0042,616615.2573,104328.0,23870.69295,23870.69295,23870.69295,23870.69295,75649.752,5717.3176,5211.0148,2843.99,82070.7136,60284.928,8477.30247,2852266.488,19757.7276,4448466.4,24767.352,110575.823,130750.0432,2.61595,933928.88,1839.8838,4299.147,7441.206,9761.1114,7966.608,6467.0112,18798.231,23543.4034,7740.1064,3591.5328,3591.5328,18313.206,21940.6132,127494.405,1906485.6,2078080.0,3082.23,350246.632,148.7508,2084.956,457146.849,2697.4166,191.0,819.05731,1042.478,2080.945,79.31412,65.40222,10.123,191.0,191.9932,88.8532,133.2798,446.2524,10518.41584,532.248,25686.1332,1504.4688,1432.5,510438.6504,1038519.0,546898.554,196.5522,3770143.75,276.52,1784.0,1784.0,2165.33,668.554,15.33348,1011.751,2765.2,3.568,2767.9652,403.92882,522.09206,33182.4,232.18314,53.52,156.76008,66.9,22300.0,370180.0,713.6,28584.14,209023.5684,18360.0,20700.0,993600.0,20700.0,993600.0,2297.7,1506.6462,1632.8574,3277.5138,68641.7382,306695.022,816.1354,15913.8288,15902.982,2453.0,811.2152,7593.9,3082.23,2875.6196,3082.23,2553.8992,623.6496,370.6956,3922.1118,3851.9388,12052.8824,4500.8536,9936.434,13989.888,30142.464,21815.5644,3336.2604,25927.578,28211.8078,5590.8776,132903.936,51000.0,21010.0,3351.859,31748.593,15692.56,240216.9564,1433776.071,1105.5844,1152.876,941863.784,3689019.076,309201.4578,8477.30247,8477.30247,8477.30247,8477.30247,8477.30247,8477.30247,8477.30247,8477.30247,8477.30247,8477.30247,8477.30247,8477.30247,8477.30247,8477.30247,8477.30247,8477.30247,13869.414,90.092,28.34432,0.7805,954.0832,5.1736,66.9,14.718,169.926,9.74064,134.246,26.76,892.0,624.4,9325.384,74072.3976,869832.7944,6196.2966,1193.5206,757.5786,887.66947,2088.9612,3796.95,3844.6538,2507.4324,2786.8046,7304.1192,710.52,11853.648,5717.3558,3431.8116,4554.0,6555.0276,27670.518,30320.6148,22192.8012,38388.8538,621000.0,11118.2184,1012.40216,50.87522,2689.25168,29.5029,475.2576,58.64693,65.562,132.27468,7907.83868,10159.57809,119.51016,382.668,129045.5964,9301.82952,10035.0,181968.0,29675.641,29675.641,23870.69295,29675.641,29675.641,29675.641,29675.641,29675.641,29675.641,29675.641,8834.8196,651.2336,588.471,565.551,220621.044,29675.641,98550.768,1440461.071,6732.593,264144.1376,374004.358,6295360.0,93979.784,93979.784,25601.406,349.35,346.8,346.8,185003.364,19858834.8,161682.474,2095.4418,5146.716,5680.4344,1511341.368,36211.58603,36211.58603,36211.58603,36211.58603,36211.58603,36211.58603,36211.58603,36211.58603,36211.58603,36211.58603,36211.58603,36211.58603,36211.58603,346.53964,1089.60846,438066.441,10200.0,186025.596,419743.5864,2926.12,22400.48,48456.7,5717.3558,1906.0654,3953.622,2930939.02,127998.268,16047.054,48282.11493,48282.11493,48282.11493,48282.11493,48282.11493,48282.11493,48282.11493,48282.11493,48282.11493,48282.11493,48282.11493,48282.11493,32.50413,25.81722,133.2648,2661.0144,40.14274,1499.96627,11752.0554,226.95841,167.21671,28.47159,217.5883,1338.0,1161.2502,148.74272,1437.37189,988.71775,2277.0084,25.57055,18.46988,197.8981,27.5333,21.64336,121.26842,1338.0,1152.8208,395.70423,1992.54549,50.7102,1846.6184,70.8248,876.6576,1656.81316,691.2108,2844.588,1204.2,5365.6476,10799.8008,177.6864,3367.69796,7518.4896,621000.0,6397.1118,3283.1372,1426.6854,4131.4716,10451.43,10674.4932,9743.346,4134.3096,63611.928,11147.2184,5974.1856,5882.1888,5265.6408,19947.375,16192.575,16100.727,8584.608,10301.5296,9295.086,18455.0436,11156.1408,10567.1132,18799.5744,26842.104,31015.224,12680.5824,14266.854,19486.566,19876.8024,38224.62,435729.3696,24095.214,107477.037,124726.438,181076.3136,168249.393,224332.524,558690.4746,20400.0,32597.935,403700.9616,3186338.4,6255173.6,125134.525,284850.7728,979975.7604,2667217.141,2088.9612,1927.4956,3741.2766,6863.6232,15926.8788,21629269.74,15731.793,469900.008,93979.784,93979.784,93979.784,93979.784,187959.603,93979.784,7602.72562,70393.362,15205.45089,15205.45089,7602.72562,3703745.749,15556.5468,29675.641,29675.641,29675.641,29675.641,29675.641,29675.641,2793.1642,2097.2258,3869.1392,6751.2804,11137.512,11990.865,11252.134,20744.8872,13541.9872,20941.11,39847.2902,34795.0914,69829.105,8477.30247,8477.30247,8477.30247,8477.30247,8477.30247,214377.9044,24036.88003,435.20852,64.12618,11668.19635,16280.84,534800.0,67.83,26.2548,213.63696,240.6078,1169.03424,50.49,5508.0,8945.13378,14536.97982,5214744.0,143.1672,816.5355,874.1502,787.6185,2669.391,158003.8402,168208.734,392780.604,729198.072,5516.4672,798.6968,1198.0452,14622.7284,68239.1232,35339.2784,37685.255,5.3074,16.725,15.9222,9366.0,62.44,0.669,42.37,86.97,1159.6,11.15,111.5,347.88,1.8732,31.22,48.9708,13.38,23.638,285.44,231.92,205.16,31.22,124.88,107.04,57.98,19.401,114.399,20.07,46.161,454.92,60.21,2.007,60.21,24.084,99.904,11.596,231.92,41.032,2.676,61.325,0.7805,2.453,713.6,6244.0,22.746,30.774,0.9366,1123.92,93.66,1.0927,71.806,117.075,1.2488,240.84,6779.2,5.352,102.58,501.75,111.5,0.7359,200.7,2.0293,8.697,936.6,84.294,2.4976,10.704,490.3324,72.475,4094.28,451.575,782.507,731.44,53.52,183.975,504626.202,7522.2972,4331.5164,1224.0,4561.911,14276.79,16255.6272,16607.0304,756863.8962,46788.624,32.50413,267600.0,149410.0,59764.0,25.81722,988.71647,25.57055,18.46988,197.89842,27.53362,21.64368,121.26842,1338.0,2277.0084,1437.37189,148.74272,1992.54581,50.7102,395.70423,1152.8208,133.2648,2661.0144,40.14274,1499.96627,11752.0554,226.95841,167.21671,28.47127,4854.2731,723.903,1161.2502,1846.6184,70.8248,876.6576,1656.81348,10799.8008,691.2108,2844.588,1204.2,5365.6476,177.6864,3367.69796,7518.4896,2732.81677,28737.90315,158.11453,315.93547,76.66729,50346.4572,5205.4704,9936.434,55341.036,5594.0508,2908490.88,46020.6096,2065.7358,3697.0724,140216.34,4625085.7,546898.554,549000.0,341084.2856,94488.7696,85039.8468,764000.0,475397.472,240914.794,79456.0,57.1772,134.246,175.947,267.6,2088.9612,122.544,4968.217,8947.368,5387.2992,11693.5128,18447.012,41969.664,19456.8822,41269.8384,4362736.32,2365458.06,1935957.978,3697.0724,1851809.94,958.62141,1437.12694,21408.0,1101660.0,13731.552,28930.2806,358407.68,587853.306,499265.6724,585224.0,885788.476,3851.622,3712.504,6736.5624,25979.5144,255617.8212,10122.60915,48282.11493,15205.45089,2088.9612,5680.4344,27981.68011,27981.68011,27981.68011,27981.68011,27981.68011,27981.68011,18770.7924,5335.926,4331.5164,6889.6374,4787.4546,7041.5206,12670.176,6889.6374,342.0428,2802.1734,11424.3792,23994.0864,61029.6444,14677.5096,1112.0868,18665.2784,55681.344,37333.899,29892.481,37333.899,45788.3172,5605.002,49945.9122,540.1952,100744.5816,207.17424,890.58138,443.61288,9895.35431,78959.4,11795.178,95500.0,1096722.0,9377908.2,315837.6,407466.622,811014.4224,94430.4,410397.9756,410397.9756,410397.9756,410397.9756,410397.9756,1987.2,387653.6,48282.11493,1045.551,48282.11493,256498.7348,6892.272,1242.0,32799.564,2283.27,95417.892,8896.6944,3488.835,20446.3348,5063.1704,6477.03,7049.8404,27997.9176,435729.3696,706038.6816,653543.1324,71673.258,71673.258,71673.258,71673.258,71673.258,71673.258,38942.3024,168817.9392,99776.9086,2486.0286,2200.341,545060.52,1689613.38,105709.6751,7743831.912,1496468.077,3407.69,63497.186,62253.776,53999.724,53999.724,53999.724,53999.724,53999.724,48282.11493,197101.434,328520.0,1748795.618,8503.56,168912.0,2267246.822,3946972.914,23870.69295,182465.4121,2113.797,1848.5362,4188.222,3662.6412,29233.782,48282.11493,28737.90315,15300.0,47685.141,60056.703,70083.0792,13950.20852,323365.5212,706245.7256,1935957.978,1229440.616,27753.44912,25043.15218,48894.85435,118267.773,68285.3268,2631.4,2701.49662,435734.794,501779.8834,161682.474,698469.046,76500.0,980149.352,630231.36,453402.404,47226.624,16280.84,534800.0,167224.5216,466903.32,520.32485,622537.76,36847.72,607.38,256304.9515,29261.2,166849.0814,19404.906,85835.4,572236.0,9936.434,10320.886,179520.0,745.365,769.539,2458.129,168588.0,336924.0,6242.68,256498.7348,14811557.91,6369.42691,2593.2224,5182.297,1834.844,6883.118,256498.7348,256498.7348,247071.581,429354.1489,16399.782,34264.396,534800.0,31805.964,3483.4384,3233.5056,65599.128,33858.084,90096.0462,37818.0,29101.5504,5208.2096,970702.3392,1823478.07,1851809.94,1619141.762,51000.0,51000.0,1090684.08,11859.2292,14677.7904,33705.8514,22306.7754,25.81859,14533.94866,8695.6804,2.73191,2.87224,2.8544,3866.2848,111.1504,10704.0,976.74,814933.2824,376.3794,954.49696,87083.27919,3353.6905,194.03696,387.71342,17119.5824,638.53841,4332.94591,5143.09532,94720.10804,2994.3994,3149.3398,3116.5092,2843.99,2564.7098,2170.9824,5394.8332,33354.6552,136.76316,1742939.176,116881.366,261.68604,389949.6276,538200.0,2597.85,54966.78,11351.017,5024.753,20670.848,934.121,1133.669,2320.056,4426.832,2035.466,8945.884,12283.208,14293.42,15483.116,1215.676,5195.7,3971.33,7442.892,12010.14,149.04,35.018,71.899,207000.0,41400.0,7990.2,117044.8,149124.7016,16256.477,5205.4704,352.8936,399.3484,7466.7798,2339.1,3082.23,3558.1644,16399.782,2531.5852,6003.0,6467.0,6003.0,11215.6512,14608.2384,5964.912,12006.0,1982.115,17229.0246,15616.4112,12213.9522,7297.9572,5493.9618,20984.832,21323.8152,6863.6232,9399.7872,18447.012,2333.96156,18756.27,13226.058,8579.529,16677.3276,10774.5984,20463.6474,16711.6896,41269.8384,32870.145,4819.0428,132855.3324,32747.4,64818.945,346521.312,142793.7336,7679.2314,185059.518,44328.1968,30467.747,862296.24,1042869.168,506150.0,755.18297,4732232.808,1221.11232,1567.37232,29436.0,24136.0928,2934.71568,2153.33706,8431.68352,93272.26716,93272.26716,93272.26716,93272.26716,93272.26716,93272.26716,93272.26716,93272.26716,93272.26716,93272.26716,93272.26716,11882.53787,11882.53787,11882.53787,11882.53787,11882.53787,11882.53787,11882.53787,11882.53787,11882.53787,11882.53787,11882.53787,11882.53787,11882.53787,11882.53787,11882.53787,11882.53787,11882.53787,1851809.94,20902.5036,1935957.978,3.39989,25428.01654,74072.404,869832.7944,12311.932,12311.932,12311.932,12311.932,12311.932,12311.932,12311.932,12311.932,12311.932,12311.932,12311.932,25500.0,128967.02,191000.0,649400.0,394959.818,531344.16,1216521.634,612000.0,921544.058,95857.2846,23087.4,0.2007,1.338,168.588,3200.5255,34.9664,390.25,1603.78376,1813609.642,182800.7902,534800.0,37818.0,18285874.6,12240.0,5594.0508,506884.014,16399.782,11099.0916,1412156.509,18770.7924,741.3912,3944.34,292210.6814,184855.5378,75418.9122,14880990.27,7579.2794,25.1098,83307.3142,66721.9122,96342.8508,13631.01498,13631.01498,25594.0,46662.3696,45295.65,170399.5804,36459.9036,1656791.444,644835.1,611199.933,1070211.2,250268.97,2027536.056,44435.908,2991678.321,504682.8144,51000.0,16667.64,18336.0,0.0,255813.2142,644835.1,658194.0602,2083533.6,585224.0,12724647.6,913.308,798.6968,913.308,798.6968,2594.8692,2594.8692,16772.6328,16772.6328,2405836.0,269470.822,236545.87,29961.611,216322.4744,1434000.0,224124.128,2633040.0,54966.78,892000.0,2021.94,468.3,1434000.0,7759.2,254184.357,1338000.0,892000.0,316685.16,4468.824,1728.288,1863.54,775454.672,8547387.771,2717.478,51330.276,68440.368,447054.9238,84140.9328,19996.856,111500.0,103493.408,30293.5688,27383.731,68213.5146,3697751.309,1475.8686,1524.651,7573.3922,7573.3922,370.6956,1524.651,41.701,913.308,930.8912,884304.0,1482.7824,3290.7664,4234620.0,45475.6764,49.952,11452.9232,75792.794,371984.99,213808.8766,120082.2888,10782.4068,1665.2673,37896.397,144006.3086,144006.3086,12748641.07,140234.888,7579.2794,30317.1176,45475.6764,120662.624,75792.794,8221.2518,10241.1908,1433776.071,11882.53787,38874.3412,649.128,21940.2,201.815,2301.06153,36211.58603,1431.6154,37818.0,534800.0,1645.3832,506210.0,95500.0,41.701,289590.2976,3218.10408,6350.27116,160005.622,458.10651,5820.3,393.372,1113.216,70048.0018,101.3312,4917.97956,3594.80804,32234.72821,33525.98983,323.71572,8878.86131,57729.10614,913.971,1431.82739,5744.325,2230.0,4834.5264,4103.568,3094.7742,2715.7986,6031.98,1687.182,2779.5546,5557.4722,5158.7298,11136.2688,5978.4962,2465.8668,2339.1,6944.6844,7304.1192,6881.6322,1034.47916,312.2,6640.94,2134.4184,8983.1982,18665.2784,23537.0592,30320.6148,53999.724,30839.0892,31706.2674,235048.7956,981.51357,261.12169,1423.35137,4652.7166,8545.806,20199.67622,26586.952,584117.8876,4496.28656,738732.936,2698595.452,53999.724,33641.7468,947512.8,5158.7298,30826.4832,930.8912,101628.8462,229200.0,102376.0,1786318.714,1637379.738,21137.5116,46258.6338,258730.818,892.5,4033022.4,34898130.0,388743.412,2868000.0,5120.5954,6955.7998,8342.0396,8024.5206,6739.5496,18770.7924,20343.2148,7286.4208,3756.8016,7896.8016,16242.3388,15076.9692,16442.5036,14083.0412,12993.5772,29585.856,18216.0,15793.6032,1112.0868,21912.3576,47988.1728,40219.611,96120.864,59734.2384,72326.7936,101361.408,44032.5288,71741.9544,133581.4272,155907.7632,114243.792,206047.4274,148465.6992,2723.66,7170000.0,1067.292,1149.788,9966.762,2886.512,13663.56887,21561.03598,93272.26716,709.3184,20013.7148,310994.7296,13631.01498,53999.724,36293.056,1547399.66,5434.956,11172.8352,21561.03598,104.7654,53930.8998,1396.3368,28346.6156,52210.7668,2868000.0,21034.9828,118849.368,4302000.0,341084.2856,137520.0,89227.56,1784551.2,90843.42,2868000.0,71645.6,36211.58603,1811700.0,445944.1608,38734.8,154939.2,7188.12,1702.54067,4460.8432,5557.4722,5712.1896,11136.2688,7631.3862,947.76632,161.2116,9489.6666,1106.7304,14569.0326,7538.4846,6955.7998,8342.0396,6496.7886,12670.176,8024.5206,15902.982,13617.288,16774.92,1785.0,1785.0,12564.744,17132.198,10604.6928,29347.532,15170.5116,27628.4556,30264.332,25129.488,2868000.0,13998.9588,22240.6374,44914.3218,20867.3994,5355.0,19570.0128,36163.3968,30153.9384,7140.0,65599.128,37021.339,68086.44,1996.742,37260.0,96120.864,77917.2704,127223.856,35970.4188,183686.832,64972.746,60084.78,0.0,8759.47912,53999.724,11691.89,11081713.31,2939.9356,587.98719,587.98719,587.98719,587.98719,587.98719,587.98719,587.98719,587.98719,2939.9356,587.98719,2939.9356,587.98719,2939.9356,587.98719,587.98719,587.98719,587.98719,587.98719,2939.9356,2939.9356,587.98719,2939.9356,587.98719,587.98719,587.98719,587.98719,587.98719,2939.9356,587.98719,587.98719,2939.9356,587.98719,2939.9356,587.98719,587.98719,587.98719,2939.9356,587.98719,587.98719,587.98719,587.98719,2939.9356,587.98719,2939.9356,587.98719,587.98719,587.98719,587.98719,2939.9356,2939.9356,587.98719,587.98719,2939.9356,2939.9356,587.98719,3035.442,21973.022,27734.919,23833.951,137672.8,1001413.0,17035.83396,21217.24278,10097.44,53999.724,437808.29,2868000.0,56693.2312,178274.052,18336.0,619.1456,229200.0,26639.09088,26499.64213,376146.0069,24132.5248,1200152.796,9644.61,11280.1926,71441.2198,120322.0544,2939.9356,153000.0,1491742.8,5057.0688,48132.0,295.69536,14497.67521,53999.724,2939.9356,53999.724,11882.53787,53999.724,53999.724,53999.724,314535.3487,36211.58603,11882.53787,53999.724,11882.53787,275941.647,6837036.0,157741.132,315482.1872,53999.724,1555500.0,2939.9356,11748.513,10671.852,74661.1136,1434000.0,53999.724,1229440.565,21561.03598,61529.886,9301279.8,53999.724,76056.2764,67612.1664,240.5724,1961.49016,3203.21453,2276.3394,21859.1736,46.83,18.732,256.2716,9248.75689,3986.07046,19153.35232,374.34462,16435.1,2754.49361,4460.37671,78174.88,1471.8,20734.48304,370.7296,93.61301,962.49715,250.0722,35748.69738,676.3216,7578.7442,2716.03296,999.04,11845.45089,2943.6,35570.91321,7549.08313,319612.0527,2302.79338,759168.4122,92099.96782,93272.26716,93272.26716,93272.26716,93272.26716,93272.26716,21561.03598,21561.03598,21561.03598,93272.26716,93272.26716,93272.26716,93272.26716,21561.03598,3315.25439,272333.539,14023.4888,7.8942,14023.4888,7573.3922,465.4456,12223.0314,7282.3772,7188.628,7282.3772,3109.8688,14023.4888,23388.5968,15146.7844,14377.256,23205.2016,26969.2632,1922.8844,892000.0,4323.747,23969.2888,46031.54404,277505.046,226701.202,194371.706,3740.7804,2629965.468,1220057.423,1607230.8,673954.96,704152.06,242952.0,21561.03598,35266.92085,35266.92085,21561.03598,21561.03598,21561.03598,7816.50872,21561.03598,21561.03598,567514.6446,813386.5051,260636.8072,206443.3334,684883.0978,94.08564,93272.26716,4666500.0,311100.0,1276968.0,7993.4264,27997.9176,181923.6888,204000.0,2469079.92,18257.43163,18257.43163,18257.43163,18257.43163,18257.43163,18257.43163,18257.43163,18257.43163,18257.43163,18257.43163,18257.43163,46777.1936,4363656.288,70492.8552,300.64928,0.06416,950.88092,1166.28108,1773.3852,830.0952,628.86,718.06,41.924,1079.32,1079.32,1284.48,1003.5,15.61,387.8862,23.9948,27.9196,280.98,85.0968,59.1396,4012.45856,18.732,7962.22255,1777.95396,196.24,613.39479,463.24201,57493.56564,2276.66189,2001.648,90080.0472,6728.133,87665.76,381979.5528,5905473.2,0.0,51448.87715,51448.87715,51448.87715,51448.87715,51448.87715,51448.87715,51448.87715,51448.87715,51448.87715,51448.87715,51448.87715,51448.87715,51448.87715,51448.87715,51448.87715,51448.87715,51448.87715,51448.87715,51448.87715,51448.87715,469898.958,93979.784,93979.784,93979.784,93979.784,93979.784,93979.784,187959.603,93979.784,12848.838,28872.0948,6704.2528,179311.92,36211.58603,6859.84983,6859.84983,6859.84983,6859.84983,6859.84983,6859.84983,6859.84983,6859.84983,2700740.0,214080.0,128100.0,1596714.466,133035.876,237900.0,57300.0,9385.077,1045.602,250269.05,1811596.8,6012553.176,21750.77021,4197.97328,1495.661,8750.0,95500.0,196.8446,15.28,9.5132,8509.623,2.46772,15.41265,79.96371,1.83185,1.83185,1.83185,14.2677,15.6238,17.84217,2.46772,2.44722,17.84217,17.84217,124150.0,0.573,0.191,37.6652,4.011,5.921,55.39,66.5444,56.6888,35.9844,1.6235,48.0174,571.7776,55.6956,48.0174,82.13,114.8674,72.198,318.97,6347.3884,30.56,15.19526,111.7732,154.1752,99.9312,11.46,89.5408,849.8736,187.18,849.8736,42548.115,272.366,761.708,657.422,93.7428,221.6364,327.9852,194.6672,441.8976,3015.6608,4528.9864,653.6784,376.652,352.968,542.822,403.8122,134.0438,0.4584,777.9048,736.9544,68.4544,31.515,168.18865,53952.8014,106.50294,38.2,112.99944,18.19675,200.79774,979.2952,1459.0108,508.0218,2317.6704,3984.7184,2533.93056,2697.21375,6184580.0,11890.09925,11890.09925,11890.09925,11890.09925,11890.09925,11890.09925,11890.09925,11890.09925,11890.09925,11890.09925,11890.09925,11890.09925,11890.09925,11890.09925,11890.09925,11890.09925,11890.09925,11890.09925,11890.09925,11890.09925,11890.09925,11890.09925,3433960.974],\"type\":\"scatter3d\"}],                        {\"template\":{\"data\":{\"histogram2dcontour\":[{\"type\":\"histogram2dcontour\",\"colorbar\":{\"outlinewidth\":0,\"ticks\":\"\"},\"colorscale\":[[0.0,\"#0d0887\"],[0.1111111111111111,\"#46039f\"],[0.2222222222222222,\"#7201a8\"],[0.3333333333333333,\"#9c179e\"],[0.4444444444444444,\"#bd3786\"],[0.5555555555555556,\"#d8576b\"],[0.6666666666666666,\"#ed7953\"],[0.7777777777777778,\"#fb9f3a\"],[0.8888888888888888,\"#fdca26\"],[1.0,\"#f0f921\"]]}],\"choropleth\":[{\"type\":\"choropleth\",\"colorbar\":{\"outlinewidth\":0,\"ticks\":\"\"}}],\"histogram2d\":[{\"type\":\"histogram2d\",\"colorbar\":{\"outlinewidth\":0,\"ticks\":\"\"},\"colorscale\":[[0.0,\"#0d0887\"],[0.1111111111111111,\"#46039f\"],[0.2222222222222222,\"#7201a8\"],[0.3333333333333333,\"#9c179e\"],[0.4444444444444444,\"#bd3786\"],[0.5555555555555556,\"#d8576b\"],[0.6666666666666666,\"#ed7953\"],[0.7777777777777778,\"#fb9f3a\"],[0.8888888888888888,\"#fdca26\"],[1.0,\"#f0f921\"]]}],\"heatmap\":[{\"type\":\"heatmap\",\"colorbar\":{\"outlinewidth\":0,\"ticks\":\"\"},\"colorscale\":[[0.0,\"#0d0887\"],[0.1111111111111111,\"#46039f\"],[0.2222222222222222,\"#7201a8\"],[0.3333333333333333,\"#9c179e\"],[0.4444444444444444,\"#bd3786\"],[0.5555555555555556,\"#d8576b\"],[0.6666666666666666,\"#ed7953\"],[0.7777777777777778,\"#fb9f3a\"],[0.8888888888888888,\"#fdca26\"],[1.0,\"#f0f921\"]]}],\"heatmapgl\":[{\"type\":\"heatmapgl\",\"colorbar\":{\"outlinewidth\":0,\"ticks\":\"\"},\"colorscale\":[[0.0,\"#0d0887\"],[0.1111111111111111,\"#46039f\"],[0.2222222222222222,\"#7201a8\"],[0.3333333333333333,\"#9c179e\"],[0.4444444444444444,\"#bd3786\"],[0.5555555555555556,\"#d8576b\"],[0.6666666666666666,\"#ed7953\"],[0.7777777777777778,\"#fb9f3a\"],[0.8888888888888888,\"#fdca26\"],[1.0,\"#f0f921\"]]}],\"contourcarpet\":[{\"type\":\"contourcarpet\",\"colorbar\":{\"outlinewidth\":0,\"ticks\":\"\"}}],\"contour\":[{\"type\":\"contour\",\"colorbar\":{\"outlinewidth\":0,\"ticks\":\"\"},\"colorscale\":[[0.0,\"#0d0887\"],[0.1111111111111111,\"#46039f\"],[0.2222222222222222,\"#7201a8\"],[0.3333333333333333,\"#9c179e\"],[0.4444444444444444,\"#bd3786\"],[0.5555555555555556,\"#d8576b\"],[0.6666666666666666,\"#ed7953\"],[0.7777777777777778,\"#fb9f3a\"],[0.8888888888888888,\"#fdca26\"],[1.0,\"#f0f921\"]]}],\"surface\":[{\"type\":\"surface\",\"colorbar\":{\"outlinewidth\":0,\"ticks\":\"\"},\"colorscale\":[[0.0,\"#0d0887\"],[0.1111111111111111,\"#46039f\"],[0.2222222222222222,\"#7201a8\"],[0.3333333333333333,\"#9c179e\"],[0.4444444444444444,\"#bd3786\"],[0.5555555555555556,\"#d8576b\"],[0.6666666666666666,\"#ed7953\"],[0.7777777777777778,\"#fb9f3a\"],[0.8888888888888888,\"#fdca26\"],[1.0,\"#f0f921\"]]}],\"mesh3d\":[{\"type\":\"mesh3d\",\"colorbar\":{\"outlinewidth\":0,\"ticks\":\"\"}}],\"scatter\":[{\"fillpattern\":{\"fillmode\":\"overlay\",\"size\":10,\"solidity\":0.2},\"type\":\"scatter\"}],\"parcoords\":[{\"type\":\"parcoords\",\"line\":{\"colorbar\":{\"outlinewidth\":0,\"ticks\":\"\"}}}],\"scatterpolargl\":[{\"type\":\"scatterpolargl\",\"marker\":{\"colorbar\":{\"outlinewidth\":0,\"ticks\":\"\"}}}],\"bar\":[{\"error_x\":{\"color\":\"#2a3f5f\"},\"error_y\":{\"color\":\"#2a3f5f\"},\"marker\":{\"line\":{\"color\":\"#E5ECF6\",\"width\":0.5},\"pattern\":{\"fillmode\":\"overlay\",\"size\":10,\"solidity\":0.2}},\"type\":\"bar\"}],\"scattergeo\":[{\"type\":\"scattergeo\",\"marker\":{\"colorbar\":{\"outlinewidth\":0,\"ticks\":\"\"}}}],\"scatterpolar\":[{\"type\":\"scatterpolar\",\"marker\":{\"colorbar\":{\"outlinewidth\":0,\"ticks\":\"\"}}}],\"histogram\":[{\"marker\":{\"pattern\":{\"fillmode\":\"overlay\",\"size\":10,\"solidity\":0.2}},\"type\":\"histogram\"}],\"scattergl\":[{\"type\":\"scattergl\",\"marker\":{\"colorbar\":{\"outlinewidth\":0,\"ticks\":\"\"}}}],\"scatter3d\":[{\"type\":\"scatter3d\",\"line\":{\"colorbar\":{\"outlinewidth\":0,\"ticks\":\"\"}},\"marker\":{\"colorbar\":{\"outlinewidth\":0,\"ticks\":\"\"}}}],\"scattermapbox\":[{\"type\":\"scattermapbox\",\"marker\":{\"colorbar\":{\"outlinewidth\":0,\"ticks\":\"\"}}}],\"scatterternary\":[{\"type\":\"scatterternary\",\"marker\":{\"colorbar\":{\"outlinewidth\":0,\"ticks\":\"\"}}}],\"scattercarpet\":[{\"type\":\"scattercarpet\",\"marker\":{\"colorbar\":{\"outlinewidth\":0,\"ticks\":\"\"}}}],\"carpet\":[{\"aaxis\":{\"endlinecolor\":\"#2a3f5f\",\"gridcolor\":\"white\",\"linecolor\":\"white\",\"minorgridcolor\":\"white\",\"startlinecolor\":\"#2a3f5f\"},\"baxis\":{\"endlinecolor\":\"#2a3f5f\",\"gridcolor\":\"white\",\"linecolor\":\"white\",\"minorgridcolor\":\"white\",\"startlinecolor\":\"#2a3f5f\"},\"type\":\"carpet\"}],\"table\":[{\"cells\":{\"fill\":{\"color\":\"#EBF0F8\"},\"line\":{\"color\":\"white\"}},\"header\":{\"fill\":{\"color\":\"#C8D4E3\"},\"line\":{\"color\":\"white\"}},\"type\":\"table\"}],\"barpolar\":[{\"marker\":{\"line\":{\"color\":\"#E5ECF6\",\"width\":0.5},\"pattern\":{\"fillmode\":\"overlay\",\"size\":10,\"solidity\":0.2}},\"type\":\"barpolar\"}],\"pie\":[{\"automargin\":true,\"type\":\"pie\"}]},\"layout\":{\"autotypenumbers\":\"strict\",\"colorway\":[\"#636efa\",\"#EF553B\",\"#00cc96\",\"#ab63fa\",\"#FFA15A\",\"#19d3f3\",\"#FF6692\",\"#B6E880\",\"#FF97FF\",\"#FECB52\"],\"font\":{\"color\":\"#2a3f5f\"},\"hovermode\":\"closest\",\"hoverlabel\":{\"align\":\"left\"},\"paper_bgcolor\":\"white\",\"plot_bgcolor\":\"#E5ECF6\",\"polar\":{\"bgcolor\":\"#E5ECF6\",\"angularaxis\":{\"gridcolor\":\"white\",\"linecolor\":\"white\",\"ticks\":\"\"},\"radialaxis\":{\"gridcolor\":\"white\",\"linecolor\":\"white\",\"ticks\":\"\"}},\"ternary\":{\"bgcolor\":\"#E5ECF6\",\"aaxis\":{\"gridcolor\":\"white\",\"linecolor\":\"white\",\"ticks\":\"\"},\"baxis\":{\"gridcolor\":\"white\",\"linecolor\":\"white\",\"ticks\":\"\"},\"caxis\":{\"gridcolor\":\"white\",\"linecolor\":\"white\",\"ticks\":\"\"}},\"coloraxis\":{\"colorbar\":{\"outlinewidth\":0,\"ticks\":\"\"}},\"colorscale\":{\"sequential\":[[0.0,\"#0d0887\"],[0.1111111111111111,\"#46039f\"],[0.2222222222222222,\"#7201a8\"],[0.3333333333333333,\"#9c179e\"],[0.4444444444444444,\"#bd3786\"],[0.5555555555555556,\"#d8576b\"],[0.6666666666666666,\"#ed7953\"],[0.7777777777777778,\"#fb9f3a\"],[0.8888888888888888,\"#fdca26\"],[1.0,\"#f0f921\"]],\"sequentialminus\":[[0.0,\"#0d0887\"],[0.1111111111111111,\"#46039f\"],[0.2222222222222222,\"#7201a8\"],[0.3333333333333333,\"#9c179e\"],[0.4444444444444444,\"#bd3786\"],[0.5555555555555556,\"#d8576b\"],[0.6666666666666666,\"#ed7953\"],[0.7777777777777778,\"#fb9f3a\"],[0.8888888888888888,\"#fdca26\"],[1.0,\"#f0f921\"]],\"diverging\":[[0,\"#8e0152\"],[0.1,\"#c51b7d\"],[0.2,\"#de77ae\"],[0.3,\"#f1b6da\"],[0.4,\"#fde0ef\"],[0.5,\"#f7f7f7\"],[0.6,\"#e6f5d0\"],[0.7,\"#b8e186\"],[0.8,\"#7fbc41\"],[0.9,\"#4d9221\"],[1,\"#276419\"]]},\"xaxis\":{\"gridcolor\":\"white\",\"linecolor\":\"white\",\"ticks\":\"\",\"title\":{\"standoff\":15},\"zerolinecolor\":\"white\",\"automargin\":true,\"zerolinewidth\":2},\"yaxis\":{\"gridcolor\":\"white\",\"linecolor\":\"white\",\"ticks\":\"\",\"title\":{\"standoff\":15},\"zerolinecolor\":\"white\",\"automargin\":true,\"zerolinewidth\":2},\"scene\":{\"xaxis\":{\"backgroundcolor\":\"#E5ECF6\",\"gridcolor\":\"white\",\"linecolor\":\"white\",\"showbackground\":true,\"ticks\":\"\",\"zerolinecolor\":\"white\",\"gridwidth\":2},\"yaxis\":{\"backgroundcolor\":\"#E5ECF6\",\"gridcolor\":\"white\",\"linecolor\":\"white\",\"showbackground\":true,\"ticks\":\"\",\"zerolinecolor\":\"white\",\"gridwidth\":2},\"zaxis\":{\"backgroundcolor\":\"#E5ECF6\",\"gridcolor\":\"white\",\"linecolor\":\"white\",\"showbackground\":true,\"ticks\":\"\",\"zerolinecolor\":\"white\",\"gridwidth\":2}},\"shapedefaults\":{\"line\":{\"color\":\"#2a3f5f\"}},\"annotationdefaults\":{\"arrowcolor\":\"#2a3f5f\",\"arrowhead\":0,\"arrowwidth\":1},\"geo\":{\"bgcolor\":\"white\",\"landcolor\":\"#E5ECF6\",\"subunitcolor\":\"white\",\"showland\":true,\"showlakes\":true,\"lakecolor\":\"white\"},\"title\":{\"x\":0.05},\"mapbox\":{\"style\":\"light\"}}},\"scene\":{\"domain\":{\"x\":[0.0,1.0],\"y\":[0.0,1.0]},\"xaxis\":{\"title\":{\"text\":\"Request to Status Duration (Days)\"}},\"yaxis\":{\"title\":{\"text\":\"Qty Requested\"}},\"zaxis\":{\"title\":{\"text\":\"Grant Pricing\"}}},\"coloraxis\":{\"colorbar\":{\"title\":{\"text\":\"clusters\"}},\"colorscale\":[[0.0,\"#0d0887\"],[0.1111111111111111,\"#46039f\"],[0.2222222222222222,\"#7201a8\"],[0.3333333333333333,\"#9c179e\"],[0.4444444444444444,\"#bd3786\"],[0.5555555555555556,\"#d8576b\"],[0.6666666666666666,\"#ed7953\"],[0.7777777777777778,\"#fb9f3a\"],[0.8888888888888888,\"#fdca26\"],[1.0,\"#f0f921\"]]},\"legend\":{\"tracegroupgap\":0},\"margin\":{\"t\":60}},                        {\"responsive\": true}                    ).then(function(){\n",
              "                            \n",
              "var gd = document.getElementById('86b4a59c-5644-4901-a61d-3d22d119ca09');\n",
              "var x = new MutationObserver(function (mutations, observer) {{\n",
              "        var display = window.getComputedStyle(gd).display;\n",
              "        if (!display || display === 'none') {{\n",
              "            console.log([gd, 'removed!']);\n",
              "            Plotly.purge(gd);\n",
              "            observer.disconnect();\n",
              "        }}\n",
              "}});\n",
              "\n",
              "// Listen for the removal of the full notebook cells\n",
              "var notebookContainer = gd.closest('#notebook-container');\n",
              "if (notebookContainer) {{\n",
              "    x.observe(notebookContainer, {childList: true});\n",
              "}}\n",
              "\n",
              "// Listen for the clearing of the current output cell\n",
              "var outputEl = gd.closest('.output');\n",
              "if (outputEl) {{\n",
              "    x.observe(outputEl, {childList: true});\n",
              "}}\n",
              "\n",
              "                        })                };                            </script>        </div>\n",
              "</body>\n",
              "</html>"
            ]
          },
          "metadata": {}
        }
      ]
    },
    {
      "cell_type": "markdown",
      "source": [
        "## Recommendations\n",
        "\n",
        "*   Standardize quantitative values\n",
        "*   Perform analysis on smaller, random sample\n",
        "*   Include related business factors\n",
        "*   Try other clustering methods, such as PAM, DBSCAN, or FCM\n",
        "\n",
        "\n",
        "\n"
      ],
      "metadata": {
        "id": "LT9rgpLv8SrM"
      }
    },
    {
      "cell_type": "code",
      "source": [],
      "metadata": {
        "id": "NxohiEuo8_u6"
      },
      "execution_count": null,
      "outputs": []
    }
  ]
}